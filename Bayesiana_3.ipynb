{
 "cells": [
  {
   "cell_type": "markdown",
   "metadata": {
    "id": "5rAdBiW4hmjd"
   },
   "source": [
    "# MCMC"
   ]
  },
  {
   "cell_type": "markdown",
   "metadata": {
    "id": "1JBbzXxnZGFi"
   },
   "source": [
    "## Algoritmo de Metropolis\n",
    "\n",
    "El objetivo del algoritmo de Metropolis es generar una muestra $\\theta_1,\\ldots,\\theta_s$ de una distribución. En el contexto bayesiano nos interesa que esa muestra sea de una distribución posterior. La idea del algoritmo de Metropolis es la siguiente:\n",
    "\n",
    "1. Queremos una colección de valores $\\{ \\theta_1,...,\\theta_s\\}$ cuya distribución empírica aproxima a la distribución de $\\theta|y$.\n",
    "2. Suponga que ya tenemos una colección de valores $\\{ \\theta_1,...,\\theta_s\\}$, y queremos determinar si podemos agregar un nuevo valor, $\\theta_{*}$.\n",
    "  1. Si $p(\\theta_*|y) > p(\\theta_s|y)$, entonces $\\theta_*$ es más probable que $\\theta_s$, por lo que queremos tener más valores $\\theta_*$ que $\\theta_s$. Por lo que aceptamos el nuevo valor, i.e $\\theta_{s+1} = \\theta_*$.\n",
    "  2. Si $p(\\theta_*|y) < p(\\theta_s|y)$, por el argumento anterior podríamos aceptar $\\theta_*$ o rechazarlo. Aceptamos $\\theta_*$ con probabilidad $\\frac{p(\\theta_*|y)}{p(\\theta_s|y)}$.\n",
    "\n",
    "Note que el cociente $\\frac{p(\\theta_*|y)}{p(\\theta_s|y)}$ puede ser calculado aún cuando no podamos calcular $p(\\theta|y)$:\n",
    "$$\n",
    "r = \\frac{p(\\theta_*|y)}{p(\\theta_s|y)} = \\frac{p(y|\\theta_*)p(\\theta_*)}{p(y)}\\frac{p(y)}{p(y|\\theta_s)p(\\theta_s)} = \\frac{p(y|\\theta_*)p(\\theta_*)}{p(y|\\theta_s)p(\\theta_s)}\n",
    "$$\n",
    "\n",
    "En el algoritmo de Metropolis se muestrea el valor $\\theta_*$ cercano a $\\theta_s$ usando una distribución propuesta que sea simétrica, $J(\\theta_* | \\theta_s)$, con varianza adecuada.\n",
    "\n",
    "Lo anterior se precisa en el siguiente algoritmo.\n",
    "\n",
    "---\n",
    "__Algoritmo (de Metropolis):__\n",
    "\n",
    "Para generar una colección de valores, $\\{ \\theta_1,\\ldots,\\theta_s \\}$:\n",
    "1. Dado $\\theta_s$, generar $\\theta_* \\sim J(\\theta|\\theta_s)$.\n",
    "2. Calcular la tasa de aceptación\n",
    "$$\n",
    "r = \\frac{p(\\theta_*|y)}{p(\\theta_s | y)} = \\frac{p(y|\\theta_*)p(\\theta_*)}{p(y|\\theta_s)p(\\theta_s)}\n",
    "$$\n",
    "3. Hacer\n",
    "$$\n",
    "\\theta_{s+1} = \\begin{cases} \\theta_* &\\text{ con probabilidad }\\min{(r,1)} \\\\ \\theta_s &\\text{ con probabilidad }1-\\min{(r,1)} \\end{cases}\n",
    "$$\n",
    "\n",
    "Obs 1: El paso 3 es equivalente a generar $u \\sim U(0,1)$ y hacer $\\theta_{s+1}=\\theta_*$ si $u < r$ o hacer $\\theta_{s+1}=\\theta_s$ en otro caso.\n",
    "\n",
    "Obs 2: Para inicializar el algoritmo es necesario dar $\\theta_1$.\n",
    "\n",
    "Obs 3: Calcular $r$ podría ser numéricamente inestable, por lo que conviene hacer los cálculos en escala logarítmica.\n",
    "\n",
    "---"
   ]
  },
  {
   "cell_type": "markdown",
   "metadata": {
    "id": "gPPZPallg7Y8"
   },
   "source": [
    "El resultado de repetir el algoritmo de Metropolis es una sucesión __dependiente__ de valores $\\{\\theta_1, \\theta_2,\\ldots\\}$.\n",
    "Además, como $\\theta_{s+1}$ solo depende de $\\theta_s$, entonces la distribución condicional de $\\theta_{s+1}$ dado $\\{ \\theta_1,.\\ldots,\\theta_s\\}$ solo depende de $\\theta_s$, por lo que la sucesión resultante es una cadena de Markov.\n",
    "Por otro lado, para $s$ suficientemente grande, la distribución de $\\theta_s$ converge a la distribución de $\\theta | y$. Para cualquier $\\theta_a \\in sop(\\theta)$,\n",
    "\n",
    "$$\n",
    "\\lim_{s\\to∞} \\frac{|\\{\\theta\\in\\{\\theta_1,\\ldots,\\theta_s\\}: \\theta <\\theta_a\\}|}{s} = \\mathbb{P}(\\theta < \\theta_a | y)\n",
    "$$\n",
    "\n",
    "Como el valor $\\theta_1$ no necesariamente está en una región de alta densidad de $\\theta|y$, los primeros valores generados por el algoritmo de Metropolis podrían no seguir la distribución deseada (i.e la distribución estacionaria de la cadena que coincide con la posterior). Para evitar considerar valores de $\\theta$ no deseados, se suele correr el algoritmo una cantidad fija de iteraciones, y apartir de una iteración, $b$, volver a ejecutar el algoritmo para generar los valores $\\{ \\theta_{b+1}, \\ldots, \\theta_{b+s}\\}$.\n",
    "Usando el algorimo de Metropolis siempre podemos movernos de zonas de baja densidad (que ocurren durante las primeras iteraciones del algoritmo) a zonas de alta densidad (que se alcanza cuando la cadena alcanza la estacionariedad)."
   ]
  },
  {
   "cell_type": "markdown",
   "metadata": {
    "id": "YvGtMQanlLG0"
   },
   "source": [
    "### Ejemplo\n",
    "Considere una muestra $y_1,\\ldots, y_n \\sim \\mathcal{N}(\\theta, \\sigma^2)$ con distribución inicial $\\theta \\sim \\mathcal{N}(\\mu, \\tau^2)$. Queremos generar una colección de valores que sigan la distribución posterior, $\\theta | y \\sim \\mathcal{N}(\\mu_n, \\tau^2_n)$.\n",
    "\n",
    "__Sol__\n",
    "\n",
    "Considere $\\sigma^2 = 1, \\tau^2 = 10, \\mu = 5, n=10$ con $y=(8.3, 8.9, 10.9, 10, 10.6, 10.1, 10.1,  8.8,  8.9, 10.2)$.\n",
    "\n",
    "Proponemos $J(\\theta | \\theta_s) = \\mathcal{N}(\\theta_s, \\delta^2)$.\n",
    "\n",
    "La tasa de aceptación es\n",
    "$$\n",
    "r =  \\frac{p(y|\\theta_*)p(\\theta_*)}{p(y|\\theta_s)p(\\theta_s)} = \\frac{\\left(\\prod_{i=1}^{n} \\frac{1}{\\sqrt{2\\pi\\sigma^2}} e^{- \\frac{(y_i -\\theta_*)^2}{2\\sigma^2}}\\right) \\frac{1}{\\sqrt{2\\pi \\tau^2}} e^{-\\frac{(\\theta_* -\\mu)^2}{2\\tau^2}} }{\\left(\\prod_{i=1}^{n} \\frac{1}{\\sqrt{2\\pi\\sigma^2}} e^{- \\frac{(y_i -\\theta_s)^2}{2\\sigma^2}}\\right) \\frac{1}{\\sqrt{2\\pi \\tau^2}} e^{-\\frac{(\\theta_s -\\mu)^2}{2\\tau^2}}}\n",
    "$$"
   ]
  },
  {
   "cell_type": "code",
   "execution_count": null,
   "metadata": {
    "id": "i54TxVFCmVkQ"
   },
   "outputs": [],
   "source": [
    "import numpy as np\n",
    "from abc import ABC, abstractmethod\n",
    "import matplotlib.pyplot as plt"
   ]
  },
  {
   "cell_type": "code",
   "execution_count": null,
   "metadata": {
    "id": "eh167WBvmXWS"
   },
   "outputs": [],
   "source": [
    "class Metropolis(ABC):\n",
    "  def __init__(self, f_sampling, f_ini, sample):\n",
    "    self._f_sampling = f_sampling\n",
    "    self._f_ini = f_ini\n",
    "    self._sample = sample\n",
    "\n",
    "  @abstractmethod\n",
    "  def sample_from_J(self, theta_s, delta) -> float:\n",
    "    pass\n",
    "\n",
    "  def __r_log(self, theta_star, theta_s):\n",
    "    log_r = np.sum(np.log(self._f_sampling(self._sample, theta_star)))\n",
    "    log_r -= np.sum(np.log(self._f_sampling(self._sample, theta_s)))\n",
    "    log_r += self._f_ini(theta_star) - self._f_ini(theta_s)\n",
    "    return log_r\n",
    "\n",
    "  def run(self, s, b, delta, theta_1):\n",
    "    chain = []\n",
    "    chain.append(theta_1)\n",
    "\n",
    "    while len(chain) < s + b:\n",
    "      theta_s = chain[-1]\n",
    "      theta_star = self.sample_from_J(theta_s, delta)\n",
    "      log_r = self.__r_log(theta_star, theta_s)\n",
    "      u = np.random.uniform(0, 1)\n",
    "      if np.log(u) < log_r:\n",
    "        chain.append(theta_star)\n",
    "\n",
    "    return chain[b:]\n"
   ]
  },
  {
   "cell_type": "code",
   "execution_count": null,
   "metadata": {
    "id": "s23i3lkatFjH"
   },
   "outputs": [],
   "source": [
    "class NormalMetropolis(Metropolis):\n",
    "  def __init__(self, f_sampling, f_ini, sample):\n",
    "    super().__init__(f_sampling, f_ini, sample)\n",
    "\n",
    "  def sample_from_J(self, theta_s, delta) -> float:\n",
    "    theta_star = np.random.normal(theta_s, delta)\n",
    "    return theta_star\n",
    "\n",
    "\n",
    "def f_samp(y_i, theta):\n",
    "  sigma2 = 1\n",
    "\n",
    "  f = 1 / (np.sqrt(2 * np.pi * sigma2))\n",
    "  f *= np.exp(-((y_i - theta)**2) / (2*sigma2))\n",
    "\n",
    "  return f\n",
    "\n",
    "def f_ini(theta):\n",
    "  tau2 = 10\n",
    "  mu = 5\n",
    "\n",
    "  f = 1 / (np.sqrt(2 * np.pi * tau2))\n",
    "  f *= np.exp(-((theta - mu)**2) / (2*tau2))\n",
    "\n",
    "  return f"
   ]
  },
  {
   "cell_type": "code",
   "execution_count": null,
   "metadata": {
    "id": "UpGpFe_vwand"
   },
   "outputs": [],
   "source": [
    "sample = np.array([8.3,8.9,10.9,10,10.6,10.1,10.1,8.8,8.9,10.2])\n",
    "normal_metropolis = NormalMetropolis(f_samp, f_ini, sample)"
   ]
  },
  {
   "cell_type": "code",
   "execution_count": null,
   "metadata": {
    "colab": {
     "base_uri": "https://localhost:8080/",
     "height": 471
    },
    "id": "dYAIwQQyxi-Q",
    "outputId": "c1bf9d4e-f80a-45e2-fb6b-c1bb0489b15c"
   },
   "outputs": [
    {
     "name": "stderr",
     "output_type": "stream",
     "text": [
      "<ipython-input-139-d2c0b72ce62c>:12: RuntimeWarning: divide by zero encountered in log\n",
      "  log_r = np.sum(np.log(self._f_sampling(self._sample, theta_star)))\n"
     ]
    },
    {
     "data": {
      "image/png": "[encoded data removed]",
      "text/plain": [
       "<Figure size 640x480 with 1 Axes>"
      ]
     },
     "metadata": {},
     "output_type": "display_data"
    }
   ],
   "source": [
    "chain = normal_metropolis.run(1000, 0, 15, 10)\n",
    "plt.ylim([0,12])\n",
    "plt.plot(chain);"
   ]
  },
  {
   "cell_type": "markdown",
   "metadata": {
    "id": "vDBHOz933IAI"
   },
   "source": [
    "### ¿Cómo saber si la cadena es \"buena\"?\n",
    "- Calcular correlación (menor correlación, mejor cadena)\n",
    "- Tamaño efectivo de la muestra"
   ]
  },
  {
   "cell_type": "code",
   "execution_count": null,
   "metadata": {
    "id": "azYqgoJg0OJL"
   },
   "outputs": [],
   "source": []
  },
  {
   "cell_type": "markdown",
   "metadata": {
    "id": "ZhZmE5F2ZOfO"
   },
   "source": [
    "## Algoritmo de Metropolis-Hastings"
   ]
  },
  {
   "cell_type": "markdown",
   "metadata": {
    "id": "E9FXWCIlZRgm"
   },
   "source": [
    "## Algoritmo de Gibbs\n"
   ]
  },
  {
   "cell_type": "code",
   "execution_count": null,
   "metadata": {
    "id": "xf_cJvEjhqxY"
   },
   "outputs": [],
   "source": []
  }
 ],
 "metadata": {
  "colab": {
   "provenance": []
  },
  "kernelspec": {
   "display_name": "Python 3 (ipykernel)",
   "language": "python",
   "name": "python3"
  },
  "language_info": {
   "codemirror_mode": {
    "name": "ipython",
    "version": 3
   },
   "file_extension": ".py",
   "mimetype": "text/x-python",
   "name": "python",
   "nbconvert_exporter": "python",
   "pygments_lexer": "ipython3",
   "version": "3.11.1"
  }
 },
 "nbformat": 4,
 "nbformat_minor": 4
}
