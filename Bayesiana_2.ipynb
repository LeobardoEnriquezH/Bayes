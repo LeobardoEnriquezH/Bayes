{
 "cells": [
  {
   "cell_type": "markdown",
   "metadata": {
    "id": "PdB9TVuhsCVx"
   },
   "source": [
    "# Métodos de Monte Carlo\n",
    "## Estadística Bayesiana\n"
   ]
  },
  {
   "cell_type": "markdown",
   "metadata": {
    "id": "S_UJklolsLjl"
   },
   "source": [
    "El objetivo es generar observaciones (i.e una muestra) de una distribución dada y/o calcular valores de integrales.\n",
    "\n",
    "## Integración Monte Carlo\n",
    "\n",
    "El primer _muestreo aleatorio_ documentado es el usado por Comte de Buffon en el denominado \"El problema de la aguja de Buffón\"."
   ]
  },
  {
   "cell_type": "markdown",
   "metadata": {
    "id": "wtZPa6wmuzXr"
   },
   "source": [
    "### Método \"hit-or-miss\"-\n",
    "\n",
    "Considere un evento $A$ tal que $P(A) = p$. Defina una sucesión de v.a.i.i.d tal que para cada $k\\in\\mathbb{N}^{+}$,\n",
    "\n",
    "$$\n",
    "  X_k = \\begin{cases}\n",
    "          1 &\\text{ si ocurre }A \\\\\n",
    "          0 &\\text{c.o.c}\n",
    "        \\end{cases}\n",
    "$$\n",
    "\n",
    "Claramente, para cada $k$, $X_k \\sim \\mathcal{Ber}(p)$.\n",
    "\n",
    "El estimador de M.V para $p$ es $\\hat{p} = \\frac{\\sum_{k=1}^{n}X_k}{n}$, y por la Ley Fuerte de los Grandes Números\n",
    "\n",
    "$$\n",
    "  \\lim _{n\\to\\infty} \\frac{\\sum_{k=1}^{n}X_k}{n} \\stackrel{c.s}{=} p\n",
    "$$\n",
    "\n",
    "Es decir, para estimar $p$ podemos usar $\\frac{\\sum_{k=1}^{n}X_k}{n}$ con $n$ suficientemente grande."
   ]
  },
  {
   "cell_type": "markdown",
   "metadata": {
    "id": "TiVhtEwPsLq6"
   },
   "source": [
    "Ejemplo (Estimación de $\\pi$)\n",
    "\n",
    "Suponga que tenemos un disco de radio 1 adentro de un cuadrado cuyos lados miden 2. Se lanza una pequeña (puntual) aguja hacia el cuadrado y nos interesa conocer la probabilidad de que la pequeña aguja caiga adentro del disco.\n",
    "\n",
    "_Sol:_\n",
    "\n",
    "Usando probabilidad geométrica es claro que el resultado es $\\frac{\\pi}{4}$.\n",
    "\n",
    "Usando el método \"hit-or-miss\" debemos dar un evento $A$ cuya probabilidad nos interese.\n",
    "\n",
    "Sea $A:\\text{\"La aguja puntual cae adentro del disco\"}$.\n",
    "\n",
    "Si $(U_1, U_2)\\in[-1,1]\\times[-1,1]$ son las coordenadas de la aguja, entonces el evento $A$ se traduce a que $U_1^{2} + U_2 ^{2} \\leq 1$, con $U_i$ v.a uniformes en $[-1,1]$.\n",
    "\n",
    "Ahora definimos una sucesión de v.a tales que\n",
    "\n",
    "$$\n",
    "  X_k = \\begin{cases}\n",
    "          1 &\\text{ si } U_1^{2} + U_2 ^{2} \\leq 1 \\\\\n",
    "          0 &\\text{c.o.c}\n",
    "        \\end{cases}\n",
    "$$\n",
    "\n",
    "Como $X_k$ son indicadoras, su esperanza es la probabilidad de su evento.\n",
    "\n",
    "$$\n",
    "\\mathbb{E}(X_k) = P(A) = \\mathbb{P}(U_1^{2} + U_2 ^{2} \\leq 1) = \\frac{\\pi}{4}\n",
    "$$\n",
    "\n",
    "Esta última igualdad la sabemos por proba geométrica.\n",
    "Lo interesante de esto es que usando $4\\frac{\\sum_{k=1}^{n}X_k}{n}$ podemos estimar $\\pi$ con probabilidad 1."
   ]
  },
  {
   "cell_type": "code",
   "execution_count": null,
   "metadata": {
    "id": "VTxK8uHssKW2"
   },
   "outputs": [],
   "source": [
    "import numpy as np\n",
    "import matplotlib.pyplot as plt\n",
    "from abc import abstractmethod, ABC\n",
    "from scipy.special import beta\n",
    "from scipy.stats import beta as fbeta\n",
    "from scipy.stats import norm, gamma\n"
   ]
  },
  {
   "cell_type": "code",
   "execution_count": null,
   "metadata": {
    "id": "GPcOwlWhzeh-"
   },
   "outputs": [],
   "source": [
    "def experiment_pi(n: int):\n",
    "  u_1 = np.random.uniform(-1, 1, size=n)\n",
    "  u_2 = np.random.uniform(-1, 1, size=n)\n",
    "  x = []\n",
    "\n",
    "  for x1, x2 in zip(u_1, u_2):\n",
    "    if (x1 ** 2 + x2**2 <=1):\n",
    "      x.append(1)\n",
    "    else:\n",
    "      x.append(0)\n",
    "\n",
    "  p = 4 * np.mean(x)\n",
    "  return p"
   ]
  },
  {
   "cell_type": "code",
   "execution_count": null,
   "metadata": {
    "colab": {
     "base_uri": "https://localhost:8080/"
    },
    "id": "kLBpOJx50OTI",
    "outputId": "5138f4c0-5752-418f-a491-ae48ac57ba15"
   },
   "outputs": [
    {
     "data": {
      "text/plain": [
       "4.0"
      ]
     },
     "execution_count": 5,
     "metadata": {},
     "output_type": "execute_result"
    }
   ],
   "source": [
    "experiment_pi(10)"
   ]
  },
  {
   "cell_type": "code",
   "execution_count": null,
   "metadata": {
    "colab": {
     "base_uri": "https://localhost:8080/"
    },
    "id": "AdyR8aIs0RBE",
    "outputId": "b5b0cf6a-2e3f-4bdd-d62f-8e7caacd26c9"
   },
   "outputs": [
    {
     "data": {
      "text/plain": [
       "3.16"
      ]
     },
     "execution_count": 6,
     "metadata": {},
     "output_type": "execute_result"
    }
   ],
   "source": [
    "experiment_pi(1000)"
   ]
  },
  {
   "cell_type": "code",
   "execution_count": null,
   "metadata": {
    "colab": {
     "base_uri": "https://localhost:8080/"
    },
    "id": "AmRzPJ4r0t_f",
    "outputId": "a2c4476a-7db2-405d-f687-ce7e4917985b"
   },
   "outputs": [
    {
     "data": {
      "text/plain": [
       "3.144"
      ]
     },
     "execution_count": 7,
     "metadata": {},
     "output_type": "execute_result"
    }
   ],
   "source": [
    "experiment_pi(100000)"
   ]
  },
  {
   "cell_type": "code",
   "execution_count": null,
   "metadata": {
    "colab": {
     "base_uri": "https://localhost:8080/"
    },
    "id": "BckBFT860vFo",
    "outputId": "81069637-83f1-466d-e680-ea995ec0ba5b"
   },
   "outputs": [
    {
     "data": {
      "text/plain": [
       "3.1421624"
      ]
     },
     "execution_count": 8,
     "metadata": {},
     "output_type": "execute_result"
    }
   ],
   "source": [
    "experiment_pi(10000000)"
   ]
  },
  {
   "cell_type": "markdown",
   "metadata": {
    "id": "WMMcFY2z08Qy"
   },
   "source": [
    "Lo malo: la convergencia es muy lenta i.e el error es del orden de $\\frac{1}{\\sqrt{N}}$ [MONTE CARLO SIMULATIONS](https://cse.engineering.nyu.edu/~mleung/CS909/s04/mc4.pdf)"
   ]
  },
  {
   "cell_type": "markdown",
   "metadata": {
    "id": "kIExg83626z_"
   },
   "source": [
    "### Método \"sample-mean\"\n",
    "\n",
    "Sea $g:[0, 1]\\to\\mathbb{R}$ una función continua. Queremos estimar $\\int_{0}^{1} g(u)du$.\n",
    "\n",
    "_Ejemplo (Estimación de $\\pi$)_.\n",
    "\n",
    "Considere la función $g:[0,1]\\to\\mathbb{R}$ dada por,\n",
    "$$\n",
    "g(u) = 4 \\sqrt{1-u^{2}}\n",
    "$$\n",
    "Usando sustitución trigonométrica es fácil ver que $\\int_{0}^{1} g(u)du = \\pi $.\n",
    "\n",
    "Considere una sucesión de v.a.i.i.d uniformes en $[0,1]$. La sucesión de v.a dada por $X_k = g(U_k)$ cumple que\n",
    "\n",
    "$$\n",
    "\\begin{align*}\n",
    "\\mathbb{E}(X_k) &= \\mathbb{E}(g(U_k)) \\\\\n",
    "                &= \\int_{\\mathbb{R}} g(u) f_{U}(u) du \\\\\n",
    "                &= \\int_{\\mathbb{R}} g(u) \\mathbf{1}_{[0,1]}(u) du \\\\\n",
    "                &= \\int_{0}^{1} g(u)du\n",
    "\\end{align*}\n",
    "$$\n",
    "\n",
    "Por la Ley Fuerte de los Grandes Números podemos estimar $\\mathbb{E}(X_k)$ usando $\\frac{\\sum_{k=1}^{n}X_k}{n}$ con $n$ suficientemente grande."
   ]
  },
  {
   "cell_type": "code",
   "execution_count": null,
   "metadata": {
    "id": "UotBgvFK0z7N"
   },
   "outputs": [],
   "source": [
    "def experiment_2(n: int):\n",
    "  u = np.random.uniform(0, 1, size=n)\n",
    "  x = 4 * np.sqrt(1 - u ** 2)\n",
    "  return np.mean(x)"
   ]
  },
  {
   "cell_type": "code",
   "execution_count": null,
   "metadata": {
    "colab": {
     "base_uri": "https://localhost:8080/"
    },
    "id": "auyUWu4t5Wes",
    "outputId": "f4d08339-7028-42a3-ceae-20686e6e4fcf"
   },
   "outputs": [
    {
     "data": {
      "text/plain": [
       "2.7320438194416097"
      ]
     },
     "execution_count": 10,
     "metadata": {},
     "output_type": "execute_result"
    }
   ],
   "source": [
    "experiment_2(10)"
   ]
  },
  {
   "cell_type": "code",
   "execution_count": null,
   "metadata": {
    "colab": {
     "base_uri": "https://localhost:8080/"
    },
    "id": "k3k3ybcL5YUe",
    "outputId": "ecdebdd7-a84a-4284-fc15-571a164056b7"
   },
   "outputs": [
    {
     "data": {
      "text/plain": [
       "3.1327986124279668"
      ]
     },
     "execution_count": 11,
     "metadata": {},
     "output_type": "execute_result"
    }
   ],
   "source": [
    "experiment_2(1000)"
   ]
  },
  {
   "cell_type": "code",
   "execution_count": null,
   "metadata": {
    "colab": {
     "base_uri": "https://localhost:8080/"
    },
    "id": "aLLmyXTt5aeR",
    "outputId": "5c8974df-7e10-4aaa-ea80-46ce80182da3"
   },
   "outputs": [
    {
     "data": {
      "text/plain": [
       "3.142094240572566"
      ]
     },
     "execution_count": 12,
     "metadata": {},
     "output_type": "execute_result"
    }
   ],
   "source": [
    "experiment_2(100000)"
   ]
  },
  {
   "cell_type": "code",
   "execution_count": null,
   "metadata": {
    "colab": {
     "base_uri": "https://localhost:8080/"
    },
    "id": "BLgO6XiE5bzD",
    "outputId": "e3c6f6a8-360b-4763-8c7d-7e2ab3e37f2b"
   },
   "outputs": [
    {
     "data": {
      "text/plain": [
       "3.1417032885090137"
      ]
     },
     "execution_count": 13,
     "metadata": {},
     "output_type": "execute_result"
    }
   ],
   "source": [
    "experiment_2(10000000)"
   ]
  },
  {
   "cell_type": "markdown",
   "metadata": {
    "id": "iR8FQtdh6Xua"
   },
   "source": [
    "Lo malo: este método también tiene un error del orden de $\\frac{1}{\\sqrt{N}}$ [MONTE CARLO SIMULATIONS](https://cse.engineering.nyu.edu/~mleung/CS909/s04/mc4.pdf)"
   ]
  },
  {
   "cell_type": "markdown",
   "metadata": {
    "id": "nXGHa_MoG9Hs"
   },
   "source": [
    "### Muestreo por aceptación-rechazo\n",
    "\n",
    "El muestreo por rechazo es un algoritmo para simular muestras aleatorias de una distribución dada.\n",
    "\n",
    "Para hacer inferencia bayesiana necesitamos conocer la distribución posterior, $f(\\theta | x)$, o en su defecto, una muestra aleatoria de la posterior.\n",
    "\n",
    "Si quisiéramos muestrear de variables aleatorias \"fáciles\", podríamos usar el Teorema fundamental de la simulación (véase [Simulación de variables aleatorias](https://github.com/ivannpy/proba1_2023-2/blob/main/simulacion_va.ipynb)). Lo interesante ocurre cuando es díficil cumplir las hipótesis del teorema anterior.\n",
    "\n",
    "El muestreo por rechazo nos da una forma de producir una muestra aleatoria de cualquier distribución.\n",
    "\n",
    "---\n",
    "__Algoritmo (Muestreo por rechazo):__\n",
    "\n",
    "Para obtener una muestra aleatoria $x_1,\\ldots,x_k \\sim f(x)$:\n",
    "1. Encontrar una densidad $p(x)$ tal que:\n",
    "  1. Sea fácil muestrear valores que sigan la distribución $p$.\n",
    "  2. La densidad $p(x)$ sea similar a $f(x)$ en cuanto a localización, dispersión y/o soporte.\n",
    "  3. Exista $c\\in\\mathbb{R}$ tal que para toda $x\\in\\text{ sop }(f)$, $f(x) \\leq c p(x)$.\n",
    "2. Para $i = 1$ hasta $i=n$:\n",
    "  1. Generar $\\hat{x}_i \\sim p(x)$ y $u_i \\sim U([0,1])$ de manera independiente.\n",
    "  2. Si $u_i \\leq \\frac{f(\\hat{x}_i)}{c p(\\hat{x}_i)}$, aceptar $\\hat{x}_i$; en otro caso, rechazar $\\hat{x}_i $.\n",
    "\n",
    "La muestra deseada son los valores aceptados siguiente el algoritmo anterior.\n",
    "\n",
    "Obs: $n$ tiene que ser suficientemente grande para que se generen $k$ valores aceptados.\n",
    "La eficiencia del algoritmo se puede medir calculando la _tasa de aceptación_, definida como la proporción de valores aceptados, $k/n$.\n",
    "\n",
    "---"
   ]
  },
  {
   "cell_type": "markdown",
   "metadata": {
    "id": "MEAEgpwt_C-J"
   },
   "source": [
    "\n",
    "_Ejemplo_: Obtener una muestra aleatoria de una distribución final $\\mathcal{Beta}(5,5)$.\n",
    "\n",
    "Proponemos $p(x)$ uniforme en $[0,1]$. Además, para toda $x\\in[0,1]$,\n",
    "\n",
    "$$\n",
    "  \\frac{1}{B(5,5)} x^{4} (1-x)^{4} \\leq 3 = 3 p(x)\n",
    "$$\n",
    "\n",
    "pues si $x\\in[0,1]$, $p(x) = 1$."
   ]
  },
  {
   "cell_type": "code",
   "execution_count": null,
   "metadata": {
    "id": "m4OfankiB3JX"
   },
   "outputs": [],
   "source": [
    "class RejectingSampler(ABC):\n",
    "  def __init__(self, f_obj, f_prop, c):\n",
    "    \"\"\" Constructor de muestreadores por rechazo.\n",
    "\n",
    "    :param f_obj: Distribución objetivo.\n",
    "    :param f_prop: Distribución propuesta.\n",
    "    :param c: Valor constante al que f_obj <= c f_prop\n",
    "    \"\"\"\n",
    "    self._f_obj = f_obj\n",
    "    self._f_prop = f_prop\n",
    "    self._c = c\n",
    "\n",
    "  @abstractmethod\n",
    "  def draw_from_f_prop(self) -> float:\n",
    "    \"\"\" Método para generar una v.a que siga la densidad propuesta.\n",
    "\n",
    "    :return: Un valor que sigue la distribución propuesta.\n",
    "    \"\"\"\n",
    "    pass\n",
    "\n",
    "  def rejection_sampling(self, n: int):\n",
    "    \"\"\" Muestreo por rechazo.\n",
    "\n",
    "    :param n: Veces que se repetirá el muestreo por rechazo.\n",
    "    :return: Una tupla con la muestra generada y la tasa de aceptación.\n",
    "    \"\"\"\n",
    "    obj_sample = []\n",
    "\n",
    "    for i in range(0, n):\n",
    "      x_i = self.draw_from_f_prop()\n",
    "      u_i = np.random.uniform(0, 1)\n",
    "      acep_prob = self._f_obj(x_i) / (self._c * self._f_prop(x_i))\n",
    "\n",
    "      if u_i <= acep_prob:\n",
    "        obj_sample.append(x_i)\n",
    "\n",
    "    acep_rate = len(obj_sample) / n\n",
    "\n",
    "    return obj_sample, acep_rate\n"
   ]
  },
  {
   "cell_type": "code",
   "execution_count": null,
   "metadata": {
    "id": "v-pOk4DNEaao"
   },
   "outputs": [],
   "source": [
    "class BetaSampler(RejectingSampler):\n",
    "  def __init__(self, f_obj, f_prop, c):\n",
    "    super().__init__(f_obj, f_prop, c)\n",
    "\n",
    "  def draw_from_f_prop(self) -> float:\n",
    "    # Proponemos una uniforme en [0,1]\n",
    "    x = np.random.uniform(0, 1)\n",
    "    return x\n",
    "\n",
    "# Distribución objetivo.\n",
    "def f_obj(x) -> float:\n",
    "  a, b = 5, 5\n",
    "\n",
    "  if x < 0 or x > 1:\n",
    "    return 0\n",
    "\n",
    "  cons = 1 / beta(a, b)\n",
    "  ker = x ** (a - 1)\n",
    "  ker *= (1 - x) ** (b - 1)\n",
    "\n",
    "  return cons * ker\n",
    "\n",
    "# Distribución propuesta\n",
    "def f_prop(x):\n",
    "  if x < 0 or x > 1:\n",
    "    return 0\n",
    "  return 1\n",
    "\n"
   ]
  },
  {
   "cell_type": "code",
   "execution_count": null,
   "metadata": {
    "colab": {
     "base_uri": "https://localhost:8080/",
     "height": 447
    },
    "id": "n8vkqe_MFloQ",
    "outputId": "91829e9e-ec48-47c8-d5c8-d23f330691e0"
   },
   "outputs": [
    {
     "name": "stdout",
     "output_type": "stream",
     "text": [
      "Tasa de aceptación:  0.19801\n"
     ]
    },
    {
     "data": {
      "image/png": "[encoded data removed]",
      "text/plain": [
       "<Figure size 640x480 with 1 Axes>"
      ]
     },
     "metadata": {},
     "output_type": "display_data"
    }
   ],
   "source": [
    "beta_sampler = BetaSampler(f_obj, f_prop, 5)\n",
    "sample, rate = beta_sampler.rejection_sampling(100000)\n",
    "\n",
    "print(\"Tasa de aceptación: \", rate)\n",
    "\n",
    "dom = np.linspace(0, 1)\n",
    "f_beta = fbeta.pdf(dom, 5, 5)\n",
    "plt.plot(dom, f_beta, label=\"Densidad Beta(5,5)\")\n",
    "plt.legend()\n",
    "plt.hist(sample, density=True, bins=50);"
   ]
  },
  {
   "cell_type": "markdown",
   "metadata": {
    "id": "vX6FXg-MRKC6"
   },
   "source": [
    "_Ejercicio_: Generar una muestra de una distribución $\\mathcal{N}(0,1)$.\n",
    "\n",
    "Proponemos $p(x)$ uniforme en [-5,5]. Note que para toda $x\\in[-5,5]$,\n",
    "\n",
    "$$\n",
    "  \\frac{1}{\\sqrt{2\\pi}} e^{-\\frac{x^2}{2}} \\leq 0.4 = (4) (1/10) = 4 p(x)\n",
    "$$\n"
   ]
  },
  {
   "cell_type": "code",
   "execution_count": null,
   "metadata": {
    "id": "txycusV4RGVR"
   },
   "outputs": [],
   "source": [
    "class NormalSampler(RejectingSampler):\n",
    "  def __init__(self, f_obj, f_prop, c):\n",
    "    super().__init__(f_obj, f_prop, c)\n",
    "\n",
    "  def draw_from_f_prop(self) -> float:\n",
    "    \"\"\" Proponemos una uniforme en [-5,5]\n",
    "    \"\"\"\n",
    "    x = np.random.uniform(-5, 5)\n",
    "    return x\n",
    "\n",
    "# Distribución objetivo\n",
    "def f_obj_norm(x) -> float:\n",
    "  mu, sigma2 = 0, 1\n",
    "\n",
    "  cons = 1 / np.sqrt(2 * np.pi * sigma2)\n",
    "  ker = np.exp(- 0.5 * (np.power(x - mu, 2) / (2 * sigma2)))\n",
    "  return cons * ker\n",
    "\n",
    "# Distribución propuesta\n",
    "def f_prop_norm(x):\n",
    "  if x < -5 or x > 5:\n",
    "    return 0\n",
    "  return 1\n"
   ]
  },
  {
   "cell_type": "code",
   "execution_count": null,
   "metadata": {
    "colab": {
     "base_uri": "https://localhost:8080/",
     "height": 447
    },
    "id": "gIY6ZKrkUFLT",
    "outputId": "615eaf7d-a727-45a5-f4e0-d4a52d4c0379"
   },
   "outputs": [
    {
     "name": "stdout",
     "output_type": "stream",
     "text": [
      "Tasa de aceptación:  0.0353\n"
     ]
    },
    {
     "data": {
      "image/png": "[encoded data removed]",
      "text/plain": [
       "<Figure size 640x480 with 1 Axes>"
      ]
     },
     "metadata": {},
     "output_type": "display_data"
    }
   ],
   "source": [
    "normal_sampler = NormalSampler(f_obj_norm, f_prop_norm, 4)\n",
    "sample, rate = normal_sampler.rejection_sampling(10000)\n",
    "\n",
    "print(\"Tasa de aceptación: \", rate)\n",
    "\n",
    "dom = np.linspace(-5, 5)\n",
    "f_norm = norm.pdf(dom, 0, 1)\n",
    "plt.plot(dom, f_norm, label=\"Densidad N(0,1)\")\n",
    "plt.legend()\n",
    "plt.hist(sample, density=True);"
   ]
  },
  {
   "cell_type": "markdown",
   "metadata": {
    "id": "RoolL581GYAm"
   },
   "source": [
    "Ref: [Simulation - Lecture 3 - Rejection Sampling](https://www.stats.ox.ac.uk/~rdavies/teaching/PartASSP/2020/lectures_latest/simulation_lecture3.pdf)"
   ]
  },
  {
   "cell_type": "markdown",
   "metadata": {
    "id": "DbhWvKjhDAO9"
   },
   "source": [
    "### Estimador de Monte Carlo\n",
    "\n",
    "Sea $X$ una v.a real tal que $sop(X) = \\Omega$ y $h:\\Omega\\to\\mathbb{R^{d}}$ una función medible.\n",
    "\n",
    "El estimador de Monte Carlo para\n",
    "$$\n",
    "\\mathbb{E}(h(X)) = \\begin{cases} \\sum_{x\\in\\Omega} h(x) f_{X}(x) &\\text{ si $X$ es discreta} \\\\ \\int_{\\Omega}h(x) f_{X}(x)dx &\\text{ si $X$ es continua}  \\end{cases}\n",
    "$$\n",
    "es\n",
    "$$\n",
    "\\hat{\\mathbb{E}(h(X))}_{MC} = \\frac{1}{n}\\sum_{i=1}^{n}h(X_i)\n",
    "$$\n",
    "donde $X_i$ es una muestra aleatoria de $f_X$.\n",
    "\n",
    "Lo anterior se puede implementar con el siguiente\n",
    "\n",
    "---\n",
    "__Algoritmo (Monte Carlo):__\n",
    "Para estimar $\\mathbb{E}(h(X))$,\n",
    "1. Generar una muestra aleatoria $x_1,\\ldots x_n$ de una población $f_X$.\n",
    "2. Calcular $\\frac{1}{n}\\sum_{i=1}^{n}h(x_i)$\n",
    "---\n",
    "\n",
    "Note que si sabemos cómo muestrear de una variable aleatoria, entonces podemos estimar la esperanza de una función de esa variable aleatoria usando el estimador de Monte Carlo.\n",
    "El problema es que no siempre es fácil simular valores de una variable aleatoria dada.\n",
    "\n",
    "El error estándar asociado a este estimador es\n",
    "$$\n",
    "se = \\sqrt{\\frac{\\sum_{i=1}^{n} [h(x_i) - \\frac{1}{n}\\sum_{i=1}^{n}h(x_i)]^{2}}{n(n-1)}}\n",
    "$$"
   ]
  },
  {
   "cell_type": "markdown",
   "metadata": {
    "id": "yzim8kG_kQEf"
   },
   "source": [
    "### Muestreo por importancia\n",
    "\n",
    "El algoritmo de muestreo por importancia nos sirve para estimar una integral,\n",
    "$$\n",
    "\\int H(x)dx\n",
    "$$\n",
    "En el contexto bayesiano es de particular importancia porque la esperanza posterior (i.e el estimador de bayes que minimiza la pérdida cuadrática) se puede ver como una integral.\n",
    "\n",
    "Sean $f(y|\\theta)$ y $\\pi(\\theta)$ un modelo estadístico paramétrico bayesiano. Del Teo. de Bayes,\n",
    "$$\n",
    "\\pi(\\theta | y) \\propto f(y|\\theta) \\pi(\\theta)\n",
    "$$\n",
    "\n",
    "Un estimador de bayes está dado por\n",
    "$$\n",
    "\\begin{align*}\n",
    "\\hat{\\theta}_{\\text{Bayes}}\n",
    "    &= \\mathbb{E}(\\theta | y)\\\\\n",
    "    &= \\int_{\\Theta} \\theta f(\\theta | y) d\\theta \\\\\n",
    "    &\\propto \\int_{\\Theta} \\theta f(y|\\theta) \\pi(\\theta) d\\theta \\\\\n",
    "    &= \\frac{\\int_{\\Theta} \\theta f(y|\\theta) \\pi(\\theta) d\\theta}{\\int_{\\Theta} f(y|\\theta) \\pi(\\theta) d\\theta}\n",
    "\\end{align*}\n",
    "$$\n",
    "\n",
    "En general, para alguna función medible $h$,\n",
    "$$\n",
    "\\mathbb{E}( h(\\theta) | y) = \\frac{\\int_{\\Theta} h(\\theta) f(y|\\theta) \\pi(\\theta) d\\theta}{\\int_{\\Theta} f(y|\\theta) \\pi(\\theta) d\\theta}\n",
    "$$\n",
    "\n",
    "Si conociéramos una muestra $\\theta_j$ de la distribución posterior, $\\pi(\\theta | y)$ podríamos calcular el estimador de Monte Carlo para la esperanza posterior, sin embargo, en general, no podremos simular la variable aleatoria $\\theta | y$.\n",
    "\n",
    "En el algoritmo de muestreo por importancia se propone una otra distribución, $p$, que aproxime la posterior y de la cual sí podamos muestrear valores.\n",
    "\n",
    "Note que\n",
    "\n",
    "$$\n",
    "\\begin{align*}\n",
    "\\mathbb{E}( h(\\theta) | y)\n",
    "&= \\frac{\\int_{\\Theta} h(\\theta) f(y|\\theta) \\pi(\\theta) d\\theta}{\\int_{\\Theta} f(y|\\theta) \\pi(\\theta) d\\theta} \\\\\n",
    "&= \\frac{\\int_{\\Theta} h(\\theta) \\frac{f(y|\\theta) \\pi(\\theta)}{p(\\theta)} p(\\theta) d\\theta}{\\int_{\\Theta} \\frac{f(y|\\theta) \\pi(\\theta)}{p(\\theta)} p(\\theta) d\\theta} \\\\\n",
    "&= \\frac{\\int_{\\Theta} h(\\theta) w(\\theta) p(\\theta) d\\theta}{\\int_{\\Theta} w(\\theta) p(\\theta) d\\theta} \\\\\n",
    "\\end{align*}\n",
    "$$\n",
    "\n",
    "con $w(\\theta) = \\frac{f(y|\\theta) \\pi(\\theta)}{p(\\theta)}$ la función de peso.\n",
    "\n",
    "Dada una muestra $\\theta_1,\\ldots,\\theta_n$ de $p$, el estimador en el algoritmo de muestreo por importancia es\n",
    "\n",
    "$$\n",
    "\\hat{\\mathbb{E}( h(\\theta) | y)}_{IS} = \\frac{\\sum_{i=1}^{n} h(\\theta_i) w(\\theta_i)}{\\sum_{i=1}^{n}w(\\theta_i)}\n",
    "$$\n",
    "\n",
    "con error estándar\n",
    "\n",
    "$$\n",
    "se = \\frac{\\sqrt{\\sum_{i=1}^{n} \\left[(h(\\theta_i)-\\frac{\\sum_{i=1}^{n} h(\\theta_i) w(\\theta_i)}{\\sum_{i=1}^{n}w(\\theta_i)})w(\\theta_i) \\right]^{2}}}{\\sum_{i=1}^{n}w(\\theta_i)}\n",
    "$$\n",
    "\n",
    "Para que el algoritmo sea eficiente necesitamos que $w$ sea acotada por arriba.\n",
    "\n",
    "Se puede demostrar que el estimador IS es insesgado y consistente:\n",
    "1. $\\mathbb{E}(\\hat{\\mathbb{E}( h(\\theta) | y)}_{IS}) = \\mathbb{E}( h(\\theta) | y)$\n",
    "2. $\\hat{\\mathbb{E}( h(\\theta) | y)}_{IS} \\to \\mathbb{E}( h(\\theta) | y)$ conforme $n\\to∞$."
   ]
  },
  {
   "cell_type": "markdown",
   "metadata": {
    "id": "z4YchZsRTue-"
   },
   "source": [
    "\n",
    "---\n",
    "__Algoritmo (Muestreo por importancia):__\n",
    "Para estimar $\\mathbb{E}( h(\\theta) | y)$,\n",
    "1. Generar una muestra, $\\theta_1,\\ldots,\\theta_n$, de la distribución propuesta, $p$.\n",
    "2. Para $i=1,\\ldots,n$, calcule\n",
    "$$\n",
    "h(\\theta_i), w(\\theta_i) = \\frac{f(y|\\theta_i) \\pi(\\theta_i)}{p(\\theta_i)}\n",
    "$$\n",
    "3. Calcule $\\frac{\\sum_{i=1}^{n} h(\\theta_i) w(\\theta_i)}{\\sum_{i=1}^{n}w(\\theta_i)}$\n",
    "\n",
    "Obs: La verosimilitud y la distribución inicial deben ser conocidas.\n",
    "\n",
    "---"
   ]
  },
  {
   "cell_type": "markdown",
   "metadata": {
    "id": "UCAAwiU4MThB"
   },
   "source": [
    "__Ejemplo__\n",
    "\n",
    "Considere una muestra $Y_i$ de una distribución Weibull con parámetros de forma $\\beta$ (conocida) y escala $\\theta$ con distribución inicial $\\theta \\sim Gamma-Inv(a,b)$, con $a,b$ conocidos. Es decir,\n",
    "\n",
    "$$\n",
    "\\begin{align*}\n",
    "f(y|\\theta) &= \\prod_{i=1}^{n} f(y_i|\\theta) = \\prod_{i=1}^{n} \\frac{\\beta}{\\theta} \\left(\\frac{y_i}{\\theta}\\right)^{\\beta - 1} e^{-(y_i / \\theta)^{\\beta}}\\mathbf{1}_{[0,\\infty)}(y_i) \\\\\n",
    "\\pi(\\theta) &= \\frac{b^{a}}{\\Gamma(a)} \\theta ^{-a-1}e^{-\\frac{b}{\\theta}}\\mathbf{1}_{(0,\\infty)}(\\theta)\n",
    "\\end{align*}\n",
    "$$\n",
    "\n",
    "Se puede demostrar que $\\theta | y \\sim Gamma-Inv (a+n, b+\\sum y_i ^{\\beta})$.\n",
    "\n",
    "Queremos estimar la media posterior para $\\theta$, i.e $\\mathbb{E}(\\theta | y)$, con $\\beta=1, a=1, b=2$.\n",
    "\n",
    "__Sol__:\n",
    "\n",
    "Proponemos una distribución $\\mathcal{Beta}(1, 2)$ para muestrear, $p(\\theta) = \\frac{1}{2} e^{-\\frac{\\theta}{2}} \\mathbf{1}_{(0,\\infty)}(\\theta)$.\n",
    "\n",
    "En este caso $h(\\theta)= \\theta$ y\n",
    "\n",
    "$$\n",
    "w(\\theta) = \\frac{\\left(\\prod_{i=1}^{n} \\frac{1}{\\theta} e^{-(y_i / \\theta)}\\right) 2 \\theta ^{-2}e^{-\\frac{2}{\\theta}}}{\\frac{1}{2} e^{-\\frac{\\theta}{2}}}\n",
    "$$\n",
    "\n",
    "\n",
    "Dada una muestra $\\theta_1,\\ldots,\\theta_n$ de un distribución $\\mathcal{Beta}(1, 2)$, la media posterior se aproxima por\n",
    "\n",
    "$$\n",
    "\\frac{\\sum_{i=1}^{n} \\theta_i \\frac{\\left(\\prod_{i=1}^{n} \\frac{1}{\\theta_i} e^{-(y_i / \\theta_i)}\\right) 2 \\theta_i ^{-2}e^{-\\frac{2}{\\theta_i}}}{\\frac{1}{2} e^{-\\frac{\\theta_i}{2}}}}{\\sum_{i=1}^{n} \\frac{\\left(\\prod_{i=1}^{n} \\frac{1}{\\theta_i} e^{-(y_i / \\theta_i)}\\right) 2 \\theta_i ^{-2}e^{-\\frac{2}{\\theta_i}}}{\\frac{1}{2} e^{-\\frac{\\theta_i}{2}}}}\n",
    "$$"
   ]
  },
  {
   "cell_type": "code",
   "execution_count": null,
   "metadata": {
    "id": "yP_LOoC4kWUK"
   },
   "outputs": [],
   "source": [
    "class ImportanceSampler(ABC):\n",
    "  def __init__(self, h, f, pi, p):\n",
    "    \"\"\" Constructor del muestreador por importancia.\n",
    "\n",
    "    :param h: Función del parámetro.\n",
    "    :param f: Función de verosimilitud.\n",
    "    :param pi: Distribución inicial.\n",
    "    :param p: Distribución propuesta\n",
    "    \"\"\"\n",
    "    self._h = h\n",
    "    self._f = f\n",
    "    self._pi = pi\n",
    "    self._p = p\n",
    "\n",
    "  @abstractmethod\n",
    "  def draw_from_p_prop(self) -> float:\n",
    "    pass\n",
    "\n",
    "  def compute_IS_estimator(self, n) -> float:\n",
    "    estimator_num = 0\n",
    "    estimator_den = 0\n",
    "    for i in range(n):\n",
    "      theta_i = self.draw_from_p_prop()\n",
    "      h_i = self._h(theta_i)\n",
    "      w_i = self._f(theta_i) * self._pi(theta_i)\n",
    "      w_i /= self._p(theta_i)\n",
    "      estimator_num += h_i * w_i\n",
    "      estimator_den += w_i\n",
    "\n",
    "    return estimator_num / estimator_den"
   ]
  },
  {
   "cell_type": "code",
   "execution_count": null,
   "metadata": {
    "id": "oEXKRiM0Wkp4"
   },
   "outputs": [],
   "source": [
    "class GammaInvIS(ImportanceSampler):\n",
    "  def __init__(self, h, f, pi, p):\n",
    "    super().__init__(h, f, pi, p)\n",
    "\n",
    "  def draw_from_p_prop(self) -> float:\n",
    "    \"\"\" Proponemos Gamma(1,2)\n",
    "    \"\"\"\n",
    "    x = gamma.rvs(2, scale=1)\n",
    "    return x\n",
    "\n",
    "def h(theta):\n",
    "  return theta\n",
    "\n",
    "def f(theta):\n",
    "  sample = [0.57, 2.18, 1.78, 0.71, 0.97, 2.15, 3.09, 2.52, 0.71, 1.25]\n",
    "  f = 1\n",
    "  for yi in sample:\n",
    "    f *= (1/theta) * np.exp(-yi / theta)\n",
    "  return f\n",
    "\n",
    "def pi(theta):\n",
    "  return 2 * np.power(theta, -2) * np.exp(-2/theta)\n",
    "\n",
    "def p(theta):\n",
    "  return 0.5 * np.exp(-theta/2)\n",
    "\n"
   ]
  },
  {
   "cell_type": "code",
   "execution_count": null,
   "metadata": {
    "id": "wzp1EN9Jd_d0"
   },
   "outputs": [],
   "source": [
    "sampler_gi = GammaInvIS(h, f, pi, p)"
   ]
  },
  {
   "cell_type": "code",
   "execution_count": null,
   "metadata": {
    "colab": {
     "base_uri": "https://localhost:8080/"
    },
    "id": "_RA2EOF1eCC3",
    "outputId": "07422dcf-8d94-4d43-e334-93fd187c66c8"
   },
   "outputs": [
    {
     "data": {
      "text/plain": [
       "1.7934151485206302"
      ]
     },
     "execution_count": 32,
     "metadata": {},
     "output_type": "execute_result"
    }
   ],
   "source": [
    "sampler_gi.compute_IS_estimator(1000)"
   ]
  },
  {
   "cell_type": "markdown",
   "metadata": {
    "id": "c-YMq_yRfowp"
   },
   "source": [
    "El resultado exacto es\n",
    "\n",
    "$$\n",
    "\\mathbb{E}( \\theta| y) = \\frac{b+\\sum y_i ^{\\beta}}{a+n-1} = 1.793\n",
    "$$"
   ]
  },
  {
   "cell_type": "code",
   "execution_count": null,
   "metadata": {
    "colab": {
     "base_uri": "https://localhost:8080/"
    },
    "id": "8CLfdBdXfiOv",
    "outputId": "95d0f518-392b-4cd3-dd9e-0bc603850c61"
   },
   "outputs": [
    {
     "name": "stdout",
     "output_type": "stream",
     "text": [
      "1.793\n"
     ]
    }
   ],
   "source": [
    "sample = np.array([0.57, 2.18, 1.78, 0.71, 0.97, 2.15, 3.09, 2.52, 0.71, 1.25])\n",
    "a = 1\n",
    "b = 2\n",
    "beta = 1\n",
    "n = sample.size\n",
    "\n",
    "estimator = b + np.sum(np.power(sample, beta))\n",
    "estimator /= a + n - 1\n",
    "print(estimator)"
   ]
  },
  {
   "cell_type": "code",
   "execution_count": null,
   "metadata": {
    "id": "3rURbwssgP7N"
   },
   "outputs": [],
   "source": []
  }
 ],
 "metadata": {
  "colab": {
   "collapsed_sections": [
    "kIExg83626z_"
   ],
   "provenance": []
  },
  "kernelspec": {
   "display_name": "Python 3 (ipykernel)",
   "language": "python",
   "name": "python3"
  },
  "language_info": {
   "codemirror_mode": {
    "name": "ipython",
    "version": 3
   },
   "file_extension": ".py",
   "mimetype": "text/x-python",
   "name": "python",
   "nbconvert_exporter": "python",
   "pygments_lexer": "ipython3",
   "version": "3.11.1"
  }
 },
 "nbformat": 4,
 "nbformat_minor": 4
}
