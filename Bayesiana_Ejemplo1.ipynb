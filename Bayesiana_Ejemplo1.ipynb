{
 "cells": [
  {
   "cell_type": "markdown",
   "metadata": {
    "id": "w6Q6yqBbzgKA"
   },
   "source": [
    "# Estadística Bayesiana\n"
   ]
  },
  {
   "cell_type": "markdown",
   "metadata": {
    "id": "a6mw-EZtfbO_"
   },
   "source": [
    "**Ejemplo: Proporción de personas que duermen suficiente.**\n",
    "\n",
    "Supongamos que estamos interesados en aprender sobre los hábitos de sueño de los estudiantes de un colegio. Como es bien sabido, es recomendable dormir al menos 8 horas al día. Nos interesa saber qué proporción de los estudiantes del colegio duermen al menos 8 horas.\n",
    "\n",
    "Considere una población de estudiantes y sea $p\\in(0,1)$ la proporción de estudiantes que duermen al menos 8 horas al día.\n",
    "\n",
    "Para obtener un modelo estadístico bayesiano necesitamos dos cosas:\n",
    "1. Un modelo de probabilidad para la muestra, $f(x|p)$, con $p\\in\\Theta$ un parámetro.\n",
    "2. Una distribución inicial para $p$, $\\pi(p)$.\n",
    "\n",
    "*Obs*: La distribución inicial para $p$ refleja el conocimiento u opinión a priori sobre los posibles valores del parámetro.\n",
    "\n",
    "El artículo de internet \"College Students Don't Get Enough Sleep\" en Gamecock (Universidad de Carolina del Sur), menciona que los resultados de una encuesta reportan que la mayoría de los estudiantes solo duermen 6 horas al día.\n",
    "Otro artículo, \"Sleep on It: Implementing a Relaxation Program into the College Corriculum\" en Fresh Writing (Universidad de Notre Dame), menciona que de una muestra de 100 estudiantes, aproximadamente $70\\%$ reportan haber dormido de 5 a 6 horas entre semana, el $28\\%$ de 7 a 8 horas, y solo el $3\\%$ 9 o más horas.\n",
    "\n",
    "*¿Qué distribución inicial debe tener $p$?*\n",
    "\n",
    "Además, en nuestro experimento tenemos a 27 estudiantes que fueron encuestados sobre sus horas de sueño. 11 de ellos reportan haber dormido al menos 8 horas la noche previa.\n",
    "\n",
    "*¿Cuál es el modelo de probabilidad de la muestra $x_1,\\ldots, x_{27}$?*"
   ]
  },
  {
   "cell_type": "markdown",
   "metadata": {
    "id": "lvr49PFdkeso"
   },
   "source": [
    "Podemos pensar en cada $x_i$ como un ensayo Bernoulli,\n",
    "$$\n",
    "X_i = \\begin{cases}\n",
    "        1 &\\text{si la i-ésima persona durmió al menos 8 horas}\\\\\n",
    "        0 &\\text{c.o.c}\n",
    "       \\end{cases}\n",
    "$$\n",
    "Luego, el total de personas que durmieron (o no) al menos 8 horas es $\\sum X_i$, que sigue una distribución $\\mathcal{Bin}(27, p)$.\n",
    "La función de verosimilitud es\n",
    "$$\n",
    "f(x_1,\\ldots,x_{27}|p) \\propto p^{s}(1-p)^{27-s} = p^{s}(1-p)^{f}\n",
    "$$\n",
    "con $s$ la cantidad de éxitos de los ensayos bernoulli (i.e, el valor de la suma) y $f$ la cantidad de fracasos.\n",
    "\n",
    "La distribución posterior, $f(p|x_1,\\ldots,x_{27})$ es proporcional a\n",
    "$$\n",
    "f(x_1,\\ldots,x_{27}|p) \\pi(p)\n",
    "$$\n",
    "\n",
    "**¿Qué distribución inicial usamos para $p$?**"
   ]
  },
  {
   "cell_type": "markdown",
   "metadata": {
    "id": "i9MphdcunGvS"
   },
   "source": [
    "*Inicial discreta*\n",
    "\n",
    "Algo sencillo es dar una lista de posibles valores para $p$ y asignarles cierto peso.\n",
    "Por ejemplo,\n",
    "\n",
    "$$\n",
    "(0.05,0.15,0.25,\\ldots,0.85,0.95)\n",
    "$$\n",
    "\n",
    "Usando la información de las encuestas podemos decir que lo más pausible es que el valor de $p$ esté alrededor de $0.3$. Luego, podemos dar los siguientes pesos\n",
    "\n",
    "$$\n",
    "(1, 5.2, 8, 7.2, 4.6, 2.1, 0.7, 0.1, 0, 0)\n",
    "$$\n",
    "\n",
    "Al normalizar estos pesos obtenemos probabilidades."
   ]
  },
  {
   "cell_type": "code",
   "execution_count": null,
   "metadata": {
    "id": "c08de6yQfUXY"
   },
   "outputs": [],
   "source": [
    "import numpy as np\n",
    "import matplotlib.pyplot as plt\n",
    "import pandas as pd\n",
    "import scipy.stats as stats\n",
    "from scipy.special import betainc\n",
    "from scipy.optimize import fsolve\n",
    "\n",
    "\n",
    "np.set_printoptions(precision=2)"
   ]
  },
  {
   "cell_type": "code",
   "execution_count": null,
   "metadata": {
    "id": "rHoQwwSColK6"
   },
   "outputs": [],
   "source": [
    "# Espacio parametral\n",
    "p = np.linspace(0.05, 0.95, 10)"
   ]
  },
  {
   "cell_type": "code",
   "execution_count": null,
   "metadata": {
    "colab": {
     "base_uri": "https://localhost:8080/"
    },
    "id": "Q6TGVPyAotUx",
    "outputId": "fb70d2fc-a459-48fd-a5b4-2a88aa96f399"
   },
   "outputs": [
    {
     "data": {
      "text/plain": [
       "array([0.05, 0.15, 0.25, 0.35, 0.45, 0.55, 0.65, 0.75, 0.85, 0.95])"
      ]
     },
     "execution_count": 21,
     "metadata": {},
     "output_type": "execute_result"
    }
   ],
   "source": [
    "p"
   ]
  },
  {
   "cell_type": "code",
   "execution_count": null,
   "metadata": {
    "id": "wn_D3cdpots5"
   },
   "outputs": [],
   "source": [
    "prior = np.array([1, 5.2, 8, 7.2, 4.6, 2.1, 0.7, 0.1, 0, 0])\n",
    "prior /= np.sum(prior)"
   ]
  },
  {
   "cell_type": "code",
   "execution_count": null,
   "metadata": {
    "colab": {
     "base_uri": "https://localhost:8080/"
    },
    "id": "D5keuNUDo3mg",
    "outputId": "c170a034-c984-4ea7-fad5-6e6b8980acbe"
   },
   "outputs": [
    {
     "data": {
      "text/plain": [
       "array([0.03, 0.18, 0.28, 0.25, 0.16, 0.07, 0.02, 0.  , 0.  , 0.  ])"
      ]
     },
     "execution_count": 23,
     "metadata": {},
     "output_type": "execute_result"
    }
   ],
   "source": [
    "# Distribución inicial sobre el espacio parametral\n",
    "prior"
   ]
  },
  {
   "cell_type": "code",
   "execution_count": null,
   "metadata": {
    "colab": {
     "base_uri": "https://localhost:8080/"
    },
    "id": "USlShlTko4CE",
    "outputId": "44a6fa3e-2a5f-44a5-e4a7-765351ef1ec5"
   },
   "outputs": [
    {
     "data": {
      "text/plain": [
       "1.0"
      ]
     },
     "execution_count": 24,
     "metadata": {},
     "output_type": "execute_result"
    }
   ],
   "source": [
    "np.sum(prior)"
   ]
  },
  {
   "cell_type": "code",
   "execution_count": null,
   "metadata": {
    "colab": {
     "base_uri": "https://localhost:8080/",
     "height": 430
    },
    "id": "DIXh5IgXo_B4",
    "outputId": "816746e4-7495-4e1a-ce4c-55bf1c488186"
   },
   "outputs": [
    {
     "data": {
      "image/png": "[encoded data removed]",
      "text/plain": [
       "<Figure size 640x480 with 1 Axes>"
      ]
     },
     "metadata": {},
     "output_type": "display_data"
    }
   ],
   "source": [
    "plt.bar(p, prior, width=0.05,\n",
    "        tick_label=[0.05, 0.15, 0.25, 0.35, 0.45, 0.55, 0.65, 0.75, 0.85, 0.95],\n",
    "        label=\"Distribución inicial\")\n",
    "plt.legend();"
   ]
  },
  {
   "cell_type": "markdown",
   "metadata": {
    "id": "oQYB56_uruKC"
   },
   "source": [
    "En nuestro ejemplo, $s=11$ y $f=16$, por lo que la verosimilitud (distribución muestral/sampling distribution) es\n",
    "$$\n",
    "f(x_1,\\ldots,x_{27}|p) ∝ p^{11} (1-p)^{16}\n",
    "$$\n",
    "con $0<p<1$"
   ]
  },
  {
   "cell_type": "code",
   "execution_count": null,
   "metadata": {
    "id": "Q9RO1HXrsnJ1"
   },
   "outputs": [],
   "source": [
    "def posterior_discrete(p, prior, data):\n",
    "  \"\"\" Distribución posterior para una proporción con modelos discretos.\n",
    "\n",
    "  Función original:\n",
    "  pdist de LearnBayes en R (https://rdrr.io/cran/LearnBayes/src/R/pdisc.R)\n",
    "\n",
    "  :param p: Arreglo de valores de la proporción.\n",
    "  :param prior: Arreglo con las probabilidades iniciales para las proporciones.\n",
    "  :param data: Arreglo de datos (éxitos / fracasos de los ensayos bernoulli).\n",
    "  :return: Arreglo con la distribución posterior.\n",
    "  \"\"\"\n",
    "  assert len(p) == len(prior)\n",
    "\n",
    "  like = np.power(p, data[0]) * np.power(1-p, data[1])\n",
    "  post = like * prior\n",
    "  post /= np.sum(post)\n",
    "\n",
    "  return post"
   ]
  },
  {
   "cell_type": "code",
   "execution_count": null,
   "metadata": {
    "id": "csICCmiLpNO4"
   },
   "outputs": [],
   "source": [
    "data = np.array([11, 16])\n",
    "post = posterior_discrete(p, prior, data)"
   ]
  },
  {
   "cell_type": "code",
   "execution_count": null,
   "metadata": {
    "colab": {
     "base_uri": "https://localhost:8080/",
     "height": 435
    },
    "id": "SBu4pBZhu_Zr",
    "outputId": "9ddd5a1b-d4af-422a-b844-e7c4b5e6642b"
   },
   "outputs": [
    {
     "data": {
      "image/png": "[encoded data removed]",
      "text/plain": [
       "<Figure size 640x480 with 1 Axes>"
      ]
     },
     "metadata": {},
     "output_type": "display_data"
    }
   ],
   "source": [
    "plt.bar(p, post, width=0.05,\n",
    "        tick_label=[0.05, 0.15, 0.25, 0.35, 0.45, 0.55, 0.65, 0.75, 0.85, 0.95],\n",
    "        label=\"Distribución final\")\n",
    "plt.legend();"
   ]
  },
  {
   "cell_type": "code",
   "execution_count": null,
   "metadata": {
    "id": "e6ZlYoeRvAs2"
   },
   "outputs": [],
   "source": [
    "table = pd.DataFrame({\"p\": p,\n",
    "                      \"Inicial\": prior,\n",
    "                      \"Final\": post})"
   ]
  },
  {
   "cell_type": "code",
   "execution_count": null,
   "metadata": {
    "colab": {
     "base_uri": "https://localhost:8080/",
     "height": 363
    },
    "id": "0YPmYFaiv4LO",
    "outputId": "664b007f-6254-4af9-a892-33d69b8f07ae"
   },
   "outputs": [
    {
     "data": {
      "text/html": [
       "\n",
       "  <div id=\"df-b5fb85e5-d524-4854-bbe5-36e872693ba0\" class=\"colab-df-container\">\n",
       "    <div>\n",
       "<style scoped>\n",
       "    .dataframe tbody tr th:only-of-type {\n",
       "        vertical-align: middle;\n",
       "    }\n",
       "\n",
       "    .dataframe tbody tr th {\n",
       "        vertical-align: top;\n",
       "    }\n",
       "\n",
       "    .dataframe thead th {\n",
       "        text-align: right;\n",
       "    }\n",
       "</style>\n",
       "<table border=\"1\" class=\"dataframe\">\n",
       "  <thead>\n",
       "    <tr style=\"text-align: right;\">\n",
       "      <th></th>\n",
       "      <th>p</th>\n",
       "      <th>Inicial</th>\n",
       "      <th>Final</th>\n",
       "    </tr>\n",
       "  </thead>\n",
       "  <tbody>\n",
       "    <tr>\n",
       "      <th>0</th>\n",
       "      <td>0.05</td>\n",
       "      <td>0.034602</td>\n",
       "      <td>1.451714e-08</td>\n",
       "    </tr>\n",
       "    <tr>\n",
       "      <th>1</th>\n",
       "      <td>0.15</td>\n",
       "      <td>0.179931</td>\n",
       "      <td>2.256022e-03</td>\n",
       "    </tr>\n",
       "    <tr>\n",
       "      <th>2</th>\n",
       "      <td>0.25</td>\n",
       "      <td>0.276817</td>\n",
       "      <td>1.291349e-01</td>\n",
       "    </tr>\n",
       "    <tr>\n",
       "      <th>3</th>\n",
       "      <td>0.35</td>\n",
       "      <td>0.249135</td>\n",
       "      <td>4.767910e-01</td>\n",
       "    </tr>\n",
       "    <tr>\n",
       "      <th>4</th>\n",
       "      <td>0.45</td>\n",
       "      <td>0.159170</td>\n",
       "      <td>3.338350e-01</td>\n",
       "    </tr>\n",
       "    <tr>\n",
       "      <th>5</th>\n",
       "      <td>0.55</td>\n",
       "      <td>0.072664</td>\n",
       "      <td>5.587820e-02</td>\n",
       "    </tr>\n",
       "    <tr>\n",
       "      <th>6</th>\n",
       "      <td>0.65</td>\n",
       "      <td>0.024221</td>\n",
       "      <td>2.098297e-03</td>\n",
       "    </tr>\n",
       "    <tr>\n",
       "      <th>7</th>\n",
       "      <td>0.75</td>\n",
       "      <td>0.003460</td>\n",
       "      <td>6.642742e-06</td>\n",
       "    </tr>\n",
       "    <tr>\n",
       "      <th>8</th>\n",
       "      <td>0.85</td>\n",
       "      <td>0.000000</td>\n",
       "      <td>0.000000e+00</td>\n",
       "    </tr>\n",
       "    <tr>\n",
       "      <th>9</th>\n",
       "      <td>0.95</td>\n",
       "      <td>0.000000</td>\n",
       "      <td>0.000000e+00</td>\n",
       "    </tr>\n",
       "  </tbody>\n",
       "</table>\n",
       "</div>\n",
       "    <div class=\"colab-df-buttons\">\n",
       "\n",
       "  <div class=\"colab-df-container\">\n",
       "    <button class=\"colab-df-convert\" onclick=\"convertToInteractive('df-b5fb85e5-d524-4854-bbe5-36e872693ba0')\"\n",
       "            title=\"Convert this dataframe to an interactive table.\"\n",
       "            style=\"display:none;\">\n",
       "\n",
       "  <svg xmlns=\"http://www.w3.org/2000/svg\" height=\"24px\" viewBox=\"0 -960 960 960\">\n",
       "    <path d=\"M120-120v-720h720v720H120Zm60-500h600v-160H180v160Zm220 220h160v-160H400v160Zm0 220h160v-160H400v160ZM180-400h160v-160H180v160Zm440 0h160v-160H620v160ZM180-180h160v-160H180v160Zm440 0h160v-160H620v160Z\"/>\n",
       "  </svg>\n",
       "    </button>\n",
       "\n",
       "  <style>\n",
       "    .colab-df-container {\n",
       "      display:flex;\n",
       "      gap: 12px;\n",
       "    }\n",
       "\n",
       "    .colab-df-convert {\n",
       "      background-color: #E8F0FE;\n",
       "      border: none;\n",
       "      border-radius: 50%;\n",
       "      cursor: pointer;\n",
       "      display: none;\n",
       "      fill: #1967D2;\n",
       "      height: 32px;\n",
       "      padding: 0 0 0 0;\n",
       "      width: 32px;\n",
       "    }\n",
       "\n",
       "    .colab-df-convert:hover {\n",
       "      background-color: #E2EBFA;\n",
       "      box-shadow: 0px 1px 2px rgba(60, 64, 67, 0.3), 0px 1px 3px 1px rgba(60, 64, 67, 0.15);\n",
       "      fill: #174EA6;\n",
       "    }\n",
       "\n",
       "    .colab-df-buttons div {\n",
       "      margin-bottom: 4px;\n",
       "    }\n",
       "\n",
       "    [theme=dark] .colab-df-convert {\n",
       "      background-color: #3B4455;\n",
       "      fill: #D2E3FC;\n",
       "    }\n",
       "\n",
       "    [theme=dark] .colab-df-convert:hover {\n",
       "      background-color: #434B5C;\n",
       "      box-shadow: 0px 1px 3px 1px rgba(0, 0, 0, 0.15);\n",
       "      filter: drop-shadow(0px 1px 2px rgba(0, 0, 0, 0.3));\n",
       "      fill: #FFFFFF;\n",
       "    }\n",
       "  </style>\n",
       "\n",
       "    <script>\n",
       "      const buttonEl =\n",
       "        document.querySelector('#df-b5fb85e5-d524-4854-bbe5-36e872693ba0 button.colab-df-convert');\n",
       "      buttonEl.style.display =\n",
       "        google.colab.kernel.accessAllowed ? 'block' : 'none';\n",
       "\n",
       "      async function convertToInteractive(key) {\n",
       "        const element = document.querySelector('#df-b5fb85e5-d524-4854-bbe5-36e872693ba0');\n",
       "        const dataTable =\n",
       "          await google.colab.kernel.invokeFunction('convertToInteractive',\n",
       "                                                    [key], {});\n",
       "        if (!dataTable) return;\n",
       "\n",
       "        const docLinkHtml = 'Like what you see? Visit the ' +\n",
       "          '<a target=\"_blank\" href=https://colab.research.google.com/notebooks/data_table.ipynb>data table notebook</a>'\n",
       "          + ' to learn more about interactive tables.';\n",
       "        element.innerHTML = '';\n",
       "        dataTable['output_type'] = 'display_data';\n",
       "        await google.colab.output.renderOutput(dataTable, element);\n",
       "        const docLink = document.createElement('div');\n",
       "        docLink.innerHTML = docLinkHtml;\n",
       "        element.appendChild(docLink);\n",
       "      }\n",
       "    </script>\n",
       "  </div>\n",
       "\n",
       "\n",
       "<div id=\"df-c7489cae-ea30-4538-b17e-f72e4160c969\">\n",
       "  <button class=\"colab-df-quickchart\" onclick=\"quickchart('df-c7489cae-ea30-4538-b17e-f72e4160c969')\"\n",
       "            title=\"Suggest charts.\"\n",
       "            style=\"display:none;\">\n",
       "\n",
       "<svg xmlns=\"http://www.w3.org/2000/svg\" height=\"24px\"viewBox=\"0 0 24 24\"\n",
       "     width=\"24px\">\n",
       "    <g>\n",
       "        <path d=\"M19 3H5c-1.1 0-2 .9-2 2v14c0 1.1.9 2 2 2h14c1.1 0 2-.9 2-2V5c0-1.1-.9-2-2-2zM9 17H7v-7h2v7zm4 0h-2V7h2v10zm4 0h-2v-4h2v4z\"/>\n",
       "    </g>\n",
       "</svg>\n",
       "  </button>\n",
       "\n",
       "<style>\n",
       "  .colab-df-quickchart {\n",
       "    background-color: #E8F0FE;\n",
       "    border: none;\n",
       "    border-radius: 50%;\n",
       "    cursor: pointer;\n",
       "    display: none;\n",
       "    fill: #1967D2;\n",
       "    height: 32px;\n",
       "    padding: 0 0 0 0;\n",
       "    width: 32px;\n",
       "  }\n",
       "\n",
       "  .colab-df-quickchart:hover {\n",
       "    background-color: #E2EBFA;\n",
       "    box-shadow: 0px 1px 2px rgba(60, 64, 67, 0.3), 0px 1px 3px 1px rgba(60, 64, 67, 0.15);\n",
       "    fill: #174EA6;\n",
       "  }\n",
       "\n",
       "  [theme=dark] .colab-df-quickchart {\n",
       "    background-color: #3B4455;\n",
       "    fill: #D2E3FC;\n",
       "  }\n",
       "\n",
       "  [theme=dark] .colab-df-quickchart:hover {\n",
       "    background-color: #434B5C;\n",
       "    box-shadow: 0px 1px 3px 1px rgba(0, 0, 0, 0.15);\n",
       "    filter: drop-shadow(0px 1px 2px rgba(0, 0, 0, 0.3));\n",
       "    fill: #FFFFFF;\n",
       "  }\n",
       "</style>\n",
       "\n",
       "  <script>\n",
       "    async function quickchart(key) {\n",
       "      const charts = await google.colab.kernel.invokeFunction(\n",
       "          'suggestCharts', [key], {});\n",
       "    }\n",
       "    (() => {\n",
       "      let quickchartButtonEl =\n",
       "        document.querySelector('#df-c7489cae-ea30-4538-b17e-f72e4160c969 button');\n",
       "      quickchartButtonEl.style.display =\n",
       "        google.colab.kernel.accessAllowed ? 'block' : 'none';\n",
       "    })();\n",
       "  </script>\n",
       "</div>\n",
       "    </div>\n",
       "  </div>\n"
      ],
      "text/plain": [
       "      p   Inicial         Final\n",
       "0  0.05  0.034602  1.451714e-08\n",
       "1  0.15  0.179931  2.256022e-03\n",
       "2  0.25  0.276817  1.291349e-01\n",
       "3  0.35  0.249135  4.767910e-01\n",
       "4  0.45  0.159170  3.338350e-01\n",
       "5  0.55  0.072664  5.587820e-02\n",
       "6  0.65  0.024221  2.098297e-03\n",
       "7  0.75  0.003460  6.642742e-06\n",
       "8  0.85  0.000000  0.000000e+00\n",
       "9  0.95  0.000000  0.000000e+00"
      ]
     },
     "execution_count": 51,
     "metadata": {},
     "output_type": "execute_result"
    }
   ],
   "source": [
    "table"
   ]
  },
  {
   "cell_type": "code",
   "execution_count": null,
   "metadata": {
    "colab": {
     "base_uri": "https://localhost:8080/",
     "height": 528
    },
    "id": "g79_hcErwBhd",
    "outputId": "1f2c80c5-b480-4641-ecdc-441958f062e0"
   },
   "outputs": [
    {
     "data": {
      "image/png": "[encoded data removed]",
      "text/plain": [
       "<Figure size 500x500 with 2 Axes>"
      ]
     },
     "metadata": {},
     "output_type": "display_data"
    }
   ],
   "source": [
    "fig, axs = plt.subplots(2, 1, layout='constrained', figsize=(5, 5))\n",
    "_ = axs[0].bar(p, prior, width=0.05,\n",
    "               tick_label=[0.05, 0.15, 0.25, 0.35, 0.45, 0.55, 0.65, 0.75, 0.85, 0.95],\n",
    "               color=\"red\")\n",
    "_ = axs[0].set_title(\"Distribución inicial\")\n",
    "_ = axs[1].bar(p, post, width=0.05,\n",
    "               tick_label=[0.05, 0.15, 0.25, 0.35, 0.45, 0.55, 0.65, 0.75, 0.85, 0.95],\n",
    "               color=\"green\")\n",
    "_ = axs[1].set_title(\"Distribución final\")"
   ]
  },
  {
   "cell_type": "markdown",
   "metadata": {
    "id": "QJ6nRWRPx3fI"
   },
   "source": [
    "Nótese que luego de actualizar la densidad, el conjunto de valores $\\{0.25, 0.35, 0.45\\}$ tienen una probabilidad posterior de $0.940$"
   ]
  },
  {
   "cell_type": "code",
   "execution_count": null,
   "metadata": {
    "colab": {
     "base_uri": "https://localhost:8080/"
    },
    "id": "-4nOs3l2wfyb",
    "outputId": "18b36b6b-19ab-4d35-d907-d51a5ecd3adb"
   },
   "outputs": [
    {
     "data": {
      "text/plain": [
       "1.0000000000000002"
      ]
     },
     "execution_count": 74,
     "metadata": {},
     "output_type": "execute_result"
    }
   ],
   "source": [
    "np.sum(post)"
   ]
  },
  {
   "cell_type": "code",
   "execution_count": null,
   "metadata": {
    "colab": {
     "base_uri": "https://localhost:8080/"
    },
    "id": "-9v-U8FsyWG5",
    "outputId": "325b0ea7-1b41-4f08-c0b5-583a3e6c8027"
   },
   "outputs": [
    {
     "data": {
      "text/plain": [
       "array([0.25, 0.35, 0.45])"
      ]
     },
     "execution_count": 78,
     "metadata": {},
     "output_type": "execute_result"
    }
   ],
   "source": [
    "p[2:5]"
   ]
  },
  {
   "cell_type": "code",
   "execution_count": null,
   "metadata": {
    "colab": {
     "base_uri": "https://localhost:8080/"
    },
    "id": "-fBiBZrfyMbz",
    "outputId": "7578176b-4822-450c-d6b3-ca222c1bc2bc"
   },
   "outputs": [
    {
     "data": {
      "text/plain": [
       "0.9397608225148018"
      ]
     },
     "execution_count": 75,
     "metadata": {},
     "output_type": "execute_result"
    }
   ],
   "source": [
    "np.sum(post[2:5])"
   ]
  },
  {
   "cell_type": "markdown",
   "metadata": {
    "id": "NTUK7nM_yjm_"
   },
   "source": [
    "*Inicial beta*\n",
    "\n",
    "Como la proporción $p$ es un parámetro continuo en $(0,1)$ es más realista asignarle una distribución inicial, $\\pi(p)$ con soporte $(0,1)$.\n",
    "\n",
    "Podemos asignar una distribución inicial beta para $p$\n",
    "\n",
    "$$\n",
    "\\begin{align*}\n",
    "\\pi(p) &= \\frac{1}{B(a,b)} p^{a-1} (1-p)^{b-1} \\mathbf{1}_{(0,1)}(p) \\\\\n",
    "       &\\propto p^{a-1} (1-p)^{b-1} \\mathbf{1}_{(0,1)}(p)\n",
    "\\end{align*}\n",
    "$$\n",
    "\n",
    "Los hiperparámetros $a$ y $b$ se eligen de tal manera que reflejen las creencias iniciales (a priori) sobre los posibles valores de $p$.\n",
    "\n",
    "Según lo visto de los artículos, es poco probable que la proporción $p$ sea mayor que $0.5$.\n",
    "\n",
    "Podemos, por ejemplo, decir que $\\mathbb{P}(p\\leq 0.5) = 0.9$.\n",
    "Además también tenemos motivos para creer que la mediana está cercana a $0.3$.\n",
    "Eso podemos escribirlo como $\\mathbb{P}(p\\leq 0.3) = \\mathbb{P}(p\\geq 0.3) = 0.5$.\n",
    "\n",
    "Lo anterior se resume a que el cuantil $0.5$ (la mediana) es $0.3$, y el cuantil $0.9$ es $0.5$. __Necesitamos una forma de encontrar $a$ y $b$ de una distribución beta, conociendo dos de sus cuantiles.__ [Do two quantiles of a beta distribution determine its parameters?](https://stats.stackexchange.com/questions/235711/do-two-quantiles-of-a-beta-distribution-determine-its-parameters).\n"
   ]
  },
  {
   "cell_type": "code",
   "execution_count": null,
   "metadata": {
    "id": "SUpiSmClyS9l"
   },
   "outputs": [],
   "source": [
    "def _beta_select_equation(params, p1, x1, p2, x2):\n",
    "    return betainc(*params, [x1, x2]) - [p1, p2]\n",
    "\n",
    "\n",
    "def beta_select(p1, x1, p2, x2):\n",
    "    \"\"\" Implementación de beta.select de LearnBayes.\n",
    "    https://stackoverflow.com/questions/73870683/how-to-find-the-shape-parameters-of-a-beta-density-that-matches-two-quantiles-in\n",
    "\n",
    "    :param p1: orden del primer cuantil.\n",
    "    :param x1: primer cuantil.\n",
    "    :param p2: orden del segundo cuantil.\n",
    "    :param x2: segundo cuantil.\n",
    "    \"\"\"\n",
    "    params, info, status, mesg = fsolve(_beta_select_equation, [1, 1],\n",
    "                                        args=(p1, x1, p2, x2), xtol=1e-12,\n",
    "                                        full_output=True)\n",
    "    if status != 1:\n",
    "        raise RuntimeError(f'fsolve failed: {mesg}')\n",
    "    return params"
   ]
  },
  {
   "cell_type": "code",
   "execution_count": null,
   "metadata": {
    "id": "K689lyCBvtea"
   },
   "outputs": [],
   "source": [
    "a, b = beta_select(0.5, 0.3, 0.9, 0.5)"
   ]
  },
  {
   "cell_type": "code",
   "execution_count": null,
   "metadata": {
    "colab": {
     "base_uri": "https://localhost:8080/"
    },
    "id": "cUl7RHdxwQCe",
    "outputId": "b56b21e9-4918-4a82-a99d-268972f4a081"
   },
   "outputs": [
    {
     "data": {
      "text/plain": [
       "(3.2637446805117913, 7.185125237062734)"
      ]
     },
     "execution_count": 5,
     "metadata": {},
     "output_type": "execute_result"
    }
   ],
   "source": [
    "a, b"
   ]
  },
  {
   "cell_type": "markdown",
   "metadata": {
    "id": "-K8IzXL4xqRu"
   },
   "source": [
    "Es decir,\n",
    "$$\n",
    "\\begin{align*}\n",
    "\\pi(p) &\\propto p^{3.26-1} (1-p)^{7.18-1} \\mathbf{1}_{(0,1)}(p)\n",
    "\\end{align*}\n",
    "$$\n",
    "\n",
    "Luego,\n",
    "$$\n",
    "\\begin{align*}\n",
    "    f(p|x_1,\\ldots,x_{27}) &\\propto p^{s}(1-p)^{f} p^{3.26-1} (1-p)^{7.18-1} \\mathbf{1}_{(0,1)}(p) \\\\\n",
    "    &= p^{a+s-1} (1-p)^{b+f-1}\n",
    "\\end{align*}\n",
    "$$\n",
    "con $a=3.26, b=7.18, s=11, f=16$.\n",
    "\n",
    "Obs: Este es un ejemplo de una distribución inicial conjugada.\n",
    "\n",
    "_Def (Familia conjugada):_ Se dice que una familia $\\mathcal{F}$ de distribuciones de probabilidad definidas en $\\Theta$ es conjugada (o cerrada bajo muestreo) para una función de verosimilitud $f(x|\\theta)$, si para cada inicial $\\pi(\\theta) \\in \\mathcal{F}$, la posterior $\\pi(\\theta|x)$ también está en $\\mathcal{F}$.\n",
    "\n",
    "\n",
    "En nuestro caso, $p \\sim \\mathcal{Beta}(3.26,7.18)$, $x|p \\sim \\mathcal{Bin}(27,p)$ y $p|x \\sim \\mathcal{Beta}(14.26, 23.18)$.\n",
    "\n",
    "\n",
    "Usando la pérdida/utilidad cuadrática podemos dar un estimador puntual bayesiano para $p$,\n",
    "\n",
    "$$\n",
    "\\hat{p}_{\\text{Bayes}} = \\mathbb{E}_{\\theta}(\\theta|x) = \\frac{14.26}{14.26+23.18} = 0.38\n",
    "$$"
   ]
  },
  {
   "cell_type": "code",
   "execution_count": null,
   "metadata": {
    "colab": {
     "base_uri": "https://localhost:8080/",
     "height": 430
    },
    "id": "24UEIEGhBsFU",
    "outputId": "b0f970ef-b037-45d5-a5b4-14a76d672160"
   },
   "outputs": [
    {
     "data": {
      "image/png": "[encoded data removed]",
      "text/plain": [
       "<Figure size 640x480 with 1 Axes>"
      ]
     },
     "metadata": {},
     "output_type": "display_data"
    }
   ],
   "source": [
    "dom = np.linspace(0, 1, 10000)\n",
    "a_, b_ = 14.26, 23.18\n",
    "\n",
    "prior_beta = stats.beta.pdf(dom, a, b)\n",
    "posterior_beta = stats.beta.pdf(dom, a_, b_)\n",
    "\n",
    "_ = plt.plot(dom, prior_beta, label=\"Prior\")\n",
    "_ = plt.plot(dom, posterior_beta, label=\"Posterior\")\n",
    "_ = plt.legend()"
   ]
  },
  {
   "cell_type": "code",
   "execution_count": null,
   "metadata": {
    "id": "vN8yyymfCSAz"
   },
   "outputs": [],
   "source": []
  }
 ],
 "metadata": {
  "colab": {
   "provenance": []
  },
  "kernelspec": {
   "display_name": "Python 3 (ipykernel)",
   "language": "python",
   "name": "python3"
  },
  "language_info": {
   "codemirror_mode": {
    "name": "ipython",
    "version": 3
   },
   "file_extension": ".py",
   "mimetype": "text/x-python",
   "name": "python",
   "nbconvert_exporter": "python",
   "pygments_lexer": "ipython3",
   "version": "3.11.1"
  }
 },
 "nbformat": 4,
 "nbformat_minor": 4
}
