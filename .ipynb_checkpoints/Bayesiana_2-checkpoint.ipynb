{
  "nbformat": 4,
  "nbformat_minor": 0,
  "metadata": {
    "colab": {
      "provenance": []
    },
    "kernelspec": {
      "name": "python3",
      "display_name": "Python 3"
    },
    "language_info": {
      "name": "python"
    }
  },
  "cells": [
    {
      "cell_type": "markdown",
      "source": [
        "# Métodos de Monte Carlo\n",
        "## Estadística Bayesiana\n",
        "#### Por: Jorge Iván Reyes Hernández"
      ],
      "metadata": {
        "id": "PdB9TVuhsCVx"
      }
    },
    {
      "cell_type": "markdown",
      "source": [
        "El objetivo es generar observaciones (i.e una muestra) de una distribución dada y/o calcular valores de integrales.\n",
        "\n",
        "## Integración Monte Carlo\n",
        "\n",
        "El primer _muestreo aleatorio_ documentado es el usado por Comte de Buffon en el denominado \"El problema de la aguja de Buffón\"."
      ],
      "metadata": {
        "id": "S_UJklolsLjl"
      }
    },
    {
      "cell_type": "markdown",
      "source": [
        "### Método \"hit-or-miss\"-\n",
        "\n",
        "Considere un evento $A$ tal que $P(A) = p$. Defina una sucesión de v.a.i.i.d tal que para cada $k\\in\\mathbb{N}^{+}$,\n",
        "\n",
        "$$\n",
        "  X_k = \\begin{cases}\n",
        "          1 &\\text{ si ocurre }A \\\\\n",
        "          0 &\\text{c.o.c}\n",
        "        \\end{cases}\n",
        "$$\n",
        "\n",
        "Claramente, para cada $k$, $X_k \\sim \\mathcal{Ber}(p)$.\n",
        "\n",
        "El estimador de M.V para $p$ es $\\hat{p} = \\frac{\\sum_{k=1}^{n}X_k}{n}$, y por la Ley Fuerte de los Grandes Números\n",
        "\n",
        "$$\n",
        "  \\lim _{n\\to\\infty} \\frac{\\sum_{k=1}^{n}X_k}{n} \\stackrel{c.s}{=} p\n",
        "$$\n",
        "\n",
        "Es decir, para estimar $p$ podemos usar $\\frac{\\sum_{k=1}^{n}X_k}{n}$ con $n$ suficientemente grande."
      ],
      "metadata": {
        "id": "wtZPa6wmuzXr"
      }
    },
    {
      "cell_type": "markdown",
      "source": [
        "Ejemplo (Estimación de $\\pi$)\n",
        "\n",
        "Suponga que tenemos un disco de radio 1 adentro de un cuadrado cuyos lados miden 2. Se lanza una pequeña (puntual) aguja hacia el cuadrado y nos interesa conocer la probabilidad de que la pequeña aguja caiga adentro del disco.\n",
        "\n",
        "_Sol:_\n",
        "\n",
        "Usando probabilidad geométrica es claro que el resultado es $\\frac{\\pi}{4}$.\n",
        "\n",
        "Usando el método \"hit-or-miss\" debemos dar un evento $A$ cuya probabilidad nos interese.\n",
        "\n",
        "Sea $A:\\text{\"La aguja puntual cae adentro del disco\"}$.\n",
        "\n",
        "Si $(U_1, U_2)\\in[-1,1]\\times[-1,1]$ son las coordenadas de la aguja, entonces el evento $A$ se traduce a que $U_1^{2} + U_2 ^{2} \\leq 1$, con $U_i$ v.a uniformes en $[-1,1]$.\n",
        "\n",
        "Ahora definimos una sucesión de v.a tales que\n",
        "\n",
        "$$\n",
        "  X_k = \\begin{cases}\n",
        "          1 &\\text{ si } U_1^{2} + U_2 ^{2} \\leq 1 \\\\\n",
        "          0 &\\text{c.o.c}\n",
        "        \\end{cases}\n",
        "$$\n",
        "\n",
        "Como $X_k$ son indicadoras, su esperanza es la probabilidad de su evento.\n",
        "\n",
        "$$\n",
        "\\mathbb{E}(X_k) = P(A) = \\mathbb{P}(U_1^{2} + U_2 ^{2} \\leq 1) = \\frac{\\pi}{4}\n",
        "$$\n",
        "\n",
        "Esta última igualdad la sabemos por proba geométrica.\n",
        "Lo interesante de esto es que usando $4\\frac{\\sum_{k=1}^{n}X_k}{n}$ podemos estimar $\\pi$ con probabilidad 1."
      ],
      "metadata": {
        "id": "TiVhtEwPsLq6"
      }
    },
    {
      "cell_type": "code",
      "source": [
        "import numpy as np\n",
        "import matplotlib.pyplot as plt\n",
        "from abc import abstractmethod, ABC\n",
        "from scipy.special import beta\n",
        "from scipy.stats import beta as fbeta\n",
        "from scipy.stats import norm\n"
      ],
      "metadata": {
        "id": "VTxK8uHssKW2"
      },
      "execution_count": null,
      "outputs": []
    },
    {
      "cell_type": "code",
      "source": [
        "def experiment_pi(n: int):\n",
        "  u_1 = np.random.uniform(-1, 1, size=n)\n",
        "  u_2 = np.random.uniform(-1, 1, size=n)\n",
        "  x = []\n",
        "\n",
        "  for x1, x2 in zip(u_1, u_2):\n",
        "    if (x1 ** 2 + x2**2 <=1):\n",
        "      x.append(1)\n",
        "    else:\n",
        "      x.append(0)\n",
        "\n",
        "  p = 4 * np.mean(x)\n",
        "  return p"
      ],
      "metadata": {
        "id": "GPcOwlWhzeh-"
      },
      "execution_count": null,
      "outputs": []
    },
    {
      "cell_type": "code",
      "source": [
        "experiment_pi(10)"
      ],
      "metadata": {
        "colab": {
          "base_uri": "https://localhost:8080/"
        },
        "id": "kLBpOJx50OTI",
        "outputId": "267401ad-bc90-4819-867f-4c89e33ebbf4"
      },
      "execution_count": null,
      "outputs": [
        {
          "output_type": "execute_result",
          "data": {
            "text/plain": [
              "3.2"
            ]
          },
          "metadata": {},
          "execution_count": 3
        }
      ]
    },
    {
      "cell_type": "code",
      "source": [
        "experiment_pi(1000)"
      ],
      "metadata": {
        "colab": {
          "base_uri": "https://localhost:8080/"
        },
        "id": "AdyR8aIs0RBE",
        "outputId": "39638734-1f47-46c3-dd76-061e47edcfae"
      },
      "execution_count": null,
      "outputs": [
        {
          "output_type": "execute_result",
          "data": {
            "text/plain": [
              "3.068"
            ]
          },
          "metadata": {},
          "execution_count": 4
        }
      ]
    },
    {
      "cell_type": "code",
      "source": [
        "experiment_pi(100000)"
      ],
      "metadata": {
        "colab": {
          "base_uri": "https://localhost:8080/"
        },
        "id": "AmRzPJ4r0t_f",
        "outputId": "bdbf2e41-0521-4fd3-c708-3297af2a80fe"
      },
      "execution_count": null,
      "outputs": [
        {
          "output_type": "execute_result",
          "data": {
            "text/plain": [
              "3.1518"
            ]
          },
          "metadata": {},
          "execution_count": 5
        }
      ]
    },
    {
      "cell_type": "code",
      "source": [
        "experiment_pi(10000000)"
      ],
      "metadata": {
        "colab": {
          "base_uri": "https://localhost:8080/"
        },
        "id": "BckBFT860vFo",
        "outputId": "9b3fd6b5-d1db-4cec-8d34-75a5dc4f796e"
      },
      "execution_count": null,
      "outputs": [
        {
          "output_type": "execute_result",
          "data": {
            "text/plain": [
              "3.1413628"
            ]
          },
          "metadata": {},
          "execution_count": 6
        }
      ]
    },
    {
      "cell_type": "markdown",
      "source": [
        "Lo malo: la convergencia es muy lenta i.e el error es del orden de $\\frac{1}{\\sqrt{N}}$ [MONTE CARLO SIMULATIONS](https://cse.engineering.nyu.edu/~mleung/CS909/s04/mc4.pdf)"
      ],
      "metadata": {
        "id": "WMMcFY2z08Qy"
      }
    },
    {
      "cell_type": "markdown",
      "source": [
        "### Método \"sample-mean\"\n",
        "\n",
        "Sea $g:[0, 1]\\to\\mathbb{R}$ una función continua. Queremos estimar $\\int_{0}^{1} g(u)du$.\n",
        "\n",
        "_Ejemplo (Estimación de $\\pi$)_.\n",
        "\n",
        "Considere la función $g:[0,1]\\to\\mathbb{R}$ dada por,\n",
        "$$\n",
        "g(u) = 4 \\sqrt{1-u^{2}}\n",
        "$$\n",
        "Usando sustitución trigonométrica es fácil ver que $\\int_{0}^{1} g(u)du = \\pi $.\n",
        "\n",
        "Considere una sucesión de v.a.i.i.d uniformes en $[0,1]$. La sucesión de v.a dada por $X_k = g(U_k)$ cumple que\n",
        "\n",
        "$$\n",
        "\\begin{align*}\n",
        "\\mathbb{E}(X_k) &= \\mathbb{E}(g(U_k)) \\\\\n",
        "                &= \\int_{\\mathbb{R}} g(u) f_{U}(u) du \\\\\n",
        "                &= \\int_{\\mathbb{R}} g(u) \\mathbf{1}_{[0,1]}(u) du \\\\\n",
        "                &= \\int_{0}^{1} g(u)du\n",
        "\\end{align*}\n",
        "$$\n",
        "\n",
        "Por la Ley Fuerte de los Grandes Números podemos estimar $\\mathbb{E}(X_k)$ usando $\\frac{\\sum_{k=1}^{n}X_k}{n}$ con $n$ suficientemente grande."
      ],
      "metadata": {
        "id": "kIExg83626z_"
      }
    },
    {
      "cell_type": "code",
      "source": [
        "def experiment_2(n: int):\n",
        "  u = np.random.uniform(0, 1, size=n)\n",
        "  x = 4 * np.sqrt(1 - u ** 2)\n",
        "  return np.mean(x)"
      ],
      "metadata": {
        "id": "UotBgvFK0z7N"
      },
      "execution_count": null,
      "outputs": []
    },
    {
      "cell_type": "code",
      "source": [
        "experiment_2(10)"
      ],
      "metadata": {
        "colab": {
          "base_uri": "https://localhost:8080/"
        },
        "id": "auyUWu4t5Wes",
        "outputId": "4e573db3-abbc-4c90-d88e-053e3f620316"
      },
      "execution_count": null,
      "outputs": [
        {
          "output_type": "execute_result",
          "data": {
            "text/plain": [
              "3.4971789282813077"
            ]
          },
          "metadata": {},
          "execution_count": 8
        }
      ]
    },
    {
      "cell_type": "code",
      "source": [
        "experiment_2(1000)"
      ],
      "metadata": {
        "colab": {
          "base_uri": "https://localhost:8080/"
        },
        "id": "k3k3ybcL5YUe",
        "outputId": "c04f9050-ab96-4583-d9c7-02b84bf220cf"
      },
      "execution_count": null,
      "outputs": [
        {
          "output_type": "execute_result",
          "data": {
            "text/plain": [
              "3.1273279219998567"
            ]
          },
          "metadata": {},
          "execution_count": 9
        }
      ]
    },
    {
      "cell_type": "code",
      "source": [
        "experiment_2(100000)"
      ],
      "metadata": {
        "colab": {
          "base_uri": "https://localhost:8080/"
        },
        "id": "aLLmyXTt5aeR",
        "outputId": "15d33a87-335d-4f5d-b729-bb61bc697839"
      },
      "execution_count": null,
      "outputs": [
        {
          "output_type": "execute_result",
          "data": {
            "text/plain": [
              "3.146206638744783"
            ]
          },
          "metadata": {},
          "execution_count": 10
        }
      ]
    },
    {
      "cell_type": "code",
      "source": [
        "experiment_2(10000000)"
      ],
      "metadata": {
        "colab": {
          "base_uri": "https://localhost:8080/"
        },
        "id": "BLgO6XiE5bzD",
        "outputId": "fa96705e-5ecb-487f-b23e-ed2cff2bf43c"
      },
      "execution_count": null,
      "outputs": [
        {
          "output_type": "execute_result",
          "data": {
            "text/plain": [
              "3.1416094791223004"
            ]
          },
          "metadata": {},
          "execution_count": 11
        }
      ]
    },
    {
      "cell_type": "markdown",
      "source": [
        "Lo malo: este método también tiene un error del orden de $\\frac{1}{\\sqrt{N}}$ [MONTE CARLO SIMULATIONS](https://cse.engineering.nyu.edu/~mleung/CS909/s04/mc4.pdf)"
      ],
      "metadata": {
        "id": "iR8FQtdh6Xua"
      }
    },
    {
      "cell_type": "markdown",
      "source": [
        "### Muestreo por aceptación-rechazo\n",
        "\n",
        "El muestreo por rechazo es un algoritmo para simular muestras aleatorias de una distribución dada.\n",
        "\n",
        "Para hacer inferencia bayesiana necesitamos conocer la distribución posterior, $f(\\theta | x)$, o en su defecto, una muestra aleatoria de la posterior.\n",
        "\n",
        "Si quisiéramos muestrear de variables aleatorias \"fáciles\", podríamos usar el Teorema fundamental de la simulación (véase [Simulación de variables aleatorias](https://github.com/ivannpy/proba1_2023-2/blob/main/simulacion_va.ipynb)). Lo interesante ocurre cuando es díficil cumplir las hipótesis del teorema anterior.\n",
        "\n",
        "El muestreo por rechazo nos da una forma de producir una muestra aleatoria de cualquier distribución.\n",
        "\n",
        "---\n",
        "__Algoritmo (Muestreo por rechazo):__\n",
        "\n",
        "Para obtener una muestra aleatoria $x_1,\\ldots,x_k \\sim f(x)$:\n",
        "1. Encontrar una densidad $p(x)$ tal que:\n",
        "  1. Sea fácil muestrear valores que sigan la distribución $p$.\n",
        "  2. La densidad $p(x)$ sea similar a $f(x)$ en cuanto a localización, dispersión y/o soporte.\n",
        "  3. Exista $c\\in\\mathbb{R}$ tal que para toda $x\\in\\text{ sop }(f)$, $f(x) \\leq c p(x)$.\n",
        "2. Para $i = 1$ hasta $i=n$:\n",
        "  1. Generar $\\hat{x}_i \\sim p(x)$ y $u_i \\sim U([0,1])$ de manera independiente.\n",
        "  2. Si $u_i \\leq \\frac{f(\\hat{x}_i)}{c p(\\hat{x}_i)}$, aceptar $\\hat{x}_i$; en otro caso, rechazar $\\hat{x}_i $.\n",
        "\n",
        "Obs: $n$ tiene que ser suficientemente grande para que se generen $k$ valores aceptados.\n",
        "La eficiencia del algoritmo se puede medir calculando la _tasa de aceptación_, definida como la proporción de valores aceptados, $k/n$.\n",
        "\n",
        "---"
      ],
      "metadata": {
        "id": "nXGHa_MoG9Hs"
      }
    },
    {
      "cell_type": "markdown",
      "source": [
        "\n",
        "_Ejemplo_: Obtener una muestra aleatoria de una distribución final $\\mathcal{Beta}(5,5)$.\n",
        "\n",
        "Proponemos $p(x)$ uniforme en $[0,1]$. Además, para toda $x\\in[0,1]$,\n",
        "\n",
        "$$\n",
        "  \\frac{1}{B(5,5)} x^{4} (1-x)^{4} \\leq 3 = 3 p(x)\n",
        "$$\n",
        "\n",
        "pues si $x\\in[0,1]$, $p(x) = 1$."
      ],
      "metadata": {
        "id": "MEAEgpwt_C-J"
      }
    },
    {
      "cell_type": "code",
      "source": [
        "class RejectingSampler(ABC):\n",
        "  def __init__(self, f_obj, f_prop, c):\n",
        "    self._f_obj = f_obj\n",
        "    self._f_prop = f_prop\n",
        "    self._c = c\n",
        "\n",
        "  @abstractmethod\n",
        "  def draw_from_f_prop(self) -> float:\n",
        "    \"\"\" Método para generar una v.a que siga la densidad propuesta.\"\"\"\n",
        "    pass\n",
        "\n",
        "  def rejection_sampling(self, n: int):\n",
        "    \"\"\" Muestreo por rechazo.\"\"\"\n",
        "    obj_sample = []\n",
        "\n",
        "    for i in range(0, n):\n",
        "      x_i = self.draw_from_f_prop()\n",
        "      u_i = np.random.uniform(0, 1)\n",
        "      acep_prob = self._f_obj(x_i) / (self._c * self._f_prop(x_i))\n",
        "\n",
        "      if u_i <= acep_prob:\n",
        "        obj_sample.append(x_i)\n",
        "\n",
        "    acep_rate = len(obj_sample) / n\n",
        "\n",
        "    return obj_sample, acep_rate\n"
      ],
      "metadata": {
        "id": "m4OfankiB3JX"
      },
      "execution_count": null,
      "outputs": []
    },
    {
      "cell_type": "code",
      "source": [
        "class BetaSampler(RejectingSampler):\n",
        "  def __init__(self, f_obj, f_prop, c):\n",
        "    super().__init__(f_obj, f_prop, c)\n",
        "\n",
        "  def draw_from_f_prop(self) -> float:\n",
        "    \"\"\" Proponemos una uniforme en [0,1].\"\"\"\n",
        "    x = np.random.uniform(0, 1)\n",
        "    return x\n"
      ],
      "metadata": {
        "id": "AKvClSEaHAvJ"
      },
      "execution_count": null,
      "outputs": []
    },
    {
      "cell_type": "code",
      "source": [
        "def f_obj(x) -> float:\n",
        "  a, b = 5, 5\n",
        "\n",
        "  if x < 0 or x > 1:\n",
        "    return 0\n",
        "\n",
        "  cons = 1 / beta(a, b)\n",
        "  ker = x ** (a - 1)\n",
        "  ker *= (1 - x) ** (b - 1)\n",
        "\n",
        "  return cons * ker\n",
        "\n",
        "def f_prop(x):\n",
        "  if x < 0 or x > 1:\n",
        "    return 0\n",
        "  return 1\n",
        "\n",
        "beta_sampler = BetaSampler(f_obj, f_prop, 3)\n"
      ],
      "metadata": {
        "id": "v-pOk4DNEaao"
      },
      "execution_count": null,
      "outputs": []
    },
    {
      "cell_type": "code",
      "source": [
        "sample, rate = beta_sampler.rejection_sampling(100000)\n",
        "\n",
        "print(\"Tasa de aceptación: \", rate)\n",
        "\n",
        "dom = np.linspace(0, 1)\n",
        "f_beta = fbeta.pdf(dom, 5, 5)\n",
        "plt.plot(dom, f_beta, label=\"Densidad beta(5,5)\")\n",
        "plt.legend()\n",
        "plt.hist(sample, density=True, bins=50);"
      ],
      "metadata": {
        "colab": {
          "base_uri": "https://localhost:8080/",
          "height": 447
        },
        "id": "n8vkqe_MFloQ",
        "outputId": "c8e27c45-1edb-4e7d-afbf-106b3881c2b9"
      },
      "execution_count": null,
      "outputs": [
        {
          "output_type": "stream",
          "name": "stdout",
          "text": [
            "Tasa de aceptación:  0.3326\n"
          ]
        },
        {
          "output_type": "display_data",
          "data": {
            "text/plain": [
              "<Figure size 640x480 with 1 Axes>"
            ],
            "image/png": "[encoded data removed]"
          },
          "metadata": {}
        }
      ]
    },
    {
      "cell_type": "markdown",
      "source": [
        "_Ejercicio_: Generar una muestra de una distribución $\\mathcal{N}(0,1)$.\n",
        "\n",
        "Proponemos $p(x)$ uniforme en [-5,5]. Note que para toda $x\\in[-5,5]$,\n",
        "\n",
        "$$\n",
        "  \\frac{1}{\\sqrt{2\\pi}} e^{-\\frac{x^2}{2}} \\leq 0.4 = (4) (1/10) = 4 p(x)\n",
        "$$\n"
      ],
      "metadata": {
        "id": "vX6FXg-MRKC6"
      }
    },
    {
      "cell_type": "code",
      "source": [
        "class NormalSampler(RejectingSampler):\n",
        "  def __init__(self, f_obj, f_prop, c):\n",
        "    super().__init__(f_obj, f_prop, c)\n",
        "\n",
        "  def draw_from_f_prop(self) -> float:\n",
        "    \"\"\" Proponemos una uniforme en [-5,5]\n",
        "    \"\"\"\n",
        "    x = np.random.uniform(-5, 5)\n",
        "    return x\n",
        "\n",
        "\n",
        "def f_obj_norm(x) -> float:\n",
        "  mu, sigma2 = 0, 1\n",
        "\n",
        "  cons = 1 / np.sqrt(2 * np.pi * sigma2)\n",
        "  ker = np.exp(- 0.5 * (np.power(x - mu, 2) / (2 * sigma2)))\n",
        "  return cons * ker\n",
        "\n",
        "def f_prop_norm(x):\n",
        "  if x < -5 or x > 5:\n",
        "    return 0\n",
        "  return 1\n",
        "\n",
        "normal_sampler = NormalSampler(f_obj_norm, f_prop_norm, 4)\n"
      ],
      "metadata": {
        "id": "txycusV4RGVR"
      },
      "execution_count": null,
      "outputs": []
    },
    {
      "cell_type": "code",
      "source": [
        "sample, rate = normal_sampler.rejection_sampling(10000000)\n",
        "\n",
        "print(\"Tasa de aceptación: \", rate)\n",
        "\n",
        "dom = np.linspace(-5, 5)\n",
        "f_norm = norm.pdf(dom, 0, 1)\n",
        "plt.plot(dom, f_norm, label=\"Densidad N(0,1)\")\n",
        "plt.legend()\n",
        "plt.hist(sample, density=True);"
      ],
      "metadata": {
        "colab": {
          "base_uri": "https://localhost:8080/",
          "height": 447
        },
        "id": "gIY6ZKrkUFLT",
        "outputId": "1dcb01cf-2eaf-4b4c-e247-032deb2b8186"
      },
      "execution_count": null,
      "outputs": [
        {
          "output_type": "stream",
          "name": "stdout",
          "text": [
            "Tasa de aceptación:  0.0353975\n"
          ]
        },
        {
          "output_type": "display_data",
          "data": {
            "text/plain": [
              "<Figure size 640x480 with 1 Axes>"
            ],
            "image/png": "[encoded data removed]"
          },
          "metadata": {}
        }
      ]
    },
    {
      "cell_type": "markdown",
      "source": [
        "Ref: [Simulation - Lecture 3 - Rejection Sampling](https://www.stats.ox.ac.uk/~rdavies/teaching/PartASSP/2020/lectures_latest/simulation_lecture3.pdf)"
      ],
      "metadata": {
        "id": "RoolL581GYAm"
      }
    },
    {
      "cell_type": "markdown",
      "source": [
        "### Muestreo por importancia"
      ],
      "metadata": {
        "id": "yzim8kG_kQEf"
      }
    },
    {
      "cell_type": "code",
      "source": [],
      "metadata": {
        "id": "yP_LOoC4kWUK"
      },
      "execution_count": null,
      "outputs": []
    },
    {
      "cell_type": "code",
      "source": [],
      "metadata": {
        "id": "oEXKRiM0Wkp4"
      },
      "execution_count": null,
      "outputs": []
    }
  ]
}