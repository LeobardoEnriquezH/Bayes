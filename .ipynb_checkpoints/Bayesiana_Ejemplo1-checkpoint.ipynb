{
  "nbformat": 4,
  "nbformat_minor": 0,
  "metadata": {
    "colab": {
      "provenance": []
    },
    "kernelspec": {
      "name": "python3",
      "display_name": "Python 3"
    },
    "language_info": {
      "name": "python"
    }
  },
  "cells": [
    {
      "cell_type": "markdown",
      "source": [
        "# Estadística Bayesiana\n",
        "Por: Jorge Iván Reyes Hernández"
      ],
      "metadata": {
        "id": "w6Q6yqBbzgKA"
      }
    },
    {
      "cell_type": "markdown",
      "source": [
        "**Ejemplo: Proporción de personas que duermen suficiente.**\n",
        "\n",
        "Supongamos que estamos interesados en aprender sobre los hábitos de sueño de los estudiantes de un colegio. Como es bien sabido, es recomendable dormir al menos 8 horas al día. Nos interesa saber qué proporción de los estudiantes del colegio duermen al menos 8 horas.\n",
        "\n",
        "Considere una población de estudiantes y sea $p\\in(0,1)$ la proporción de estudiantes que duermen al menos 8 horas al día.\n",
        "\n",
        "Para obtener un modelo estadístico bayesiano necesitamos dos cosas:\n",
        "1. Un modelo de probabilidad para la muestra, $f(x|p)$, con $p\\in\\Theta$ un parámetro.\n",
        "2. Una distribución inicial para $p$, $\\pi(p)$.\n",
        "\n",
        "*Obs*: La distribución inicial para $p$ refleja el conocimiento u opinión a priori sobre los posibles valores del parámetro.\n",
        "\n",
        "El artículo de internet \"College Students Don't Get Enough Sleep\" en Gamecock (Universidad de Carolina del Sur), menciona que los resultados de una encuesta reportan que la mayoría de los estudiantes solo duermen 6 horas al día.\n",
        "Otro artículo, \"Sleep on It: Implementing a Relaxation Program into the College Corriculum\" en Fresh Writing (Universidad de Notre Dame), menciona que de una muestra de 100 estudiantes, aproximadamente $70\\%$ reportan haber dormido de 5 a 6 horas entre semana, el $28\\%$ de 7 a 8 horas, y solo el $3\\%$ 9 o más horas.\n",
        "\n",
        "*¿Qué distribución inicial debe tener $p$?*\n",
        "\n",
        "Además, en nuestro experimento tenemos a 27 estudiantes que fueron encuestados sobre sus horas de sueño. 11 de ellos reportan haber dormido al menos 8 horas la noche previa.\n",
        "\n",
        "*¿Cuál es el modelo de probabilidad de la muestra $x_1,\\ldots, x_{27}$?*"
      ],
      "metadata": {
        "id": "a6mw-EZtfbO_"
      }
    },
    {
      "cell_type": "markdown",
      "source": [
        "Podemos pensar en cada $x_i$ como un ensayo Bernoulli,\n",
        "$$\n",
        "X_i = \\begin{cases}\n",
        "        1 &\\text{si la i-ésima persona durmió al menos 8 horas}\\\\\n",
        "        0 &\\text{c.o.c}\n",
        "       \\end{cases}\n",
        "$$\n",
        "Luego, el total de personas que durmieron (o no) al menos 8 horas es $\\sum X_i$, que sigue una distribución $\\mathcal{Bin}(27, p)$.\n",
        "La función de verosimilitud es\n",
        "$$\n",
        "f(x_1,\\ldots,x_{27}|p) \\propto p^{s}(1-p)^{27-s} = p^{s}(1-p)^{f}\n",
        "$$\n",
        "con $s$ la cantidad de éxitos de los ensayos bernoulli (i.e, el valor de la suma) y $f$ la cantidad de fracasos.\n",
        "\n",
        "La distribución posterior, $f(p|x_1,\\ldots,x_{27})$ es proporcional a\n",
        "$$\n",
        "f(x_1,\\ldots,x_{27}|p) \\pi(p)\n",
        "$$\n",
        "\n",
        "**¿Qué distribución inicial usamos para $p$?**"
      ],
      "metadata": {
        "id": "lvr49PFdkeso"
      }
    },
    {
      "cell_type": "markdown",
      "source": [
        "*Inicial discreta*\n",
        "\n",
        "Algo sencillo es dar una lista de posibles valores para $p$ y asignarles cierto peso.\n",
        "Por ejemplo,\n",
        "\n",
        "$$\n",
        "(0.05,0.15,0.25,\\ldots,0.85,0.95)\n",
        "$$\n",
        "\n",
        "Usando la información de las encuestas podemos decir que lo más pausible es que el valor de $p$ esté alrededor de $0.3$. Luego, podemos dar los siguientes pesos\n",
        "\n",
        "$$\n",
        "(1, 5.2, 8, 7.2, 4.6, 2.1, 0.7, 0.1, 0, 0)\n",
        "$$\n",
        "\n",
        "Al normalizar estos pesos obtenemos probabilidades."
      ],
      "metadata": {
        "id": "i9MphdcunGvS"
      }
    },
    {
      "cell_type": "code",
      "execution_count": null,
      "metadata": {
        "id": "c08de6yQfUXY"
      },
      "outputs": [],
      "source": [
        "import numpy as np\n",
        "import matplotlib.pyplot as plt\n",
        "import pandas as pd\n",
        "\n",
        "np.set_printoptions(precision=2)"
      ]
    },
    {
      "cell_type": "code",
      "source": [
        "# Espacio parametral\n",
        "p = np.linspace(0.05, 0.95, 10)"
      ],
      "metadata": {
        "id": "rHoQwwSColK6"
      },
      "execution_count": null,
      "outputs": []
    },
    {
      "cell_type": "code",
      "source": [
        "p"
      ],
      "metadata": {
        "colab": {
          "base_uri": "https://localhost:8080/"
        },
        "id": "Q6TGVPyAotUx",
        "outputId": "fb70d2fc-a459-48fd-a5b4-2a88aa96f399"
      },
      "execution_count": null,
      "outputs": [
        {
          "output_type": "execute_result",
          "data": {
            "text/plain": [
              "array([0.05, 0.15, 0.25, 0.35, 0.45, 0.55, 0.65, 0.75, 0.85, 0.95])"
            ]
          },
          "metadata": {},
          "execution_count": 21
        }
      ]
    },
    {
      "cell_type": "code",
      "source": [
        "prior = np.array([1, 5.2, 8, 7.2, 4.6, 2.1, 0.7, 0.1, 0, 0])\n",
        "prior /= np.sum(prior)"
      ],
      "metadata": {
        "id": "wn_D3cdpots5"
      },
      "execution_count": null,
      "outputs": []
    },
    {
      "cell_type": "code",
      "source": [
        "# Distribución inicial sobre el espacio parametral\n",
        "prior"
      ],
      "metadata": {
        "colab": {
          "base_uri": "https://localhost:8080/"
        },
        "id": "D5keuNUDo3mg",
        "outputId": "c170a034-c984-4ea7-fad5-6e6b8980acbe"
      },
      "execution_count": null,
      "outputs": [
        {
          "output_type": "execute_result",
          "data": {
            "text/plain": [
              "array([0.03, 0.18, 0.28, 0.25, 0.16, 0.07, 0.02, 0.  , 0.  , 0.  ])"
            ]
          },
          "metadata": {},
          "execution_count": 23
        }
      ]
    },
    {
      "cell_type": "code",
      "source": [
        "np.sum(prior)"
      ],
      "metadata": {
        "colab": {
          "base_uri": "https://localhost:8080/"
        },
        "id": "USlShlTko4CE",
        "outputId": "44a6fa3e-2a5f-44a5-e4a7-765351ef1ec5"
      },
      "execution_count": null,
      "outputs": [
        {
          "output_type": "execute_result",
          "data": {
            "text/plain": [
              "1.0"
            ]
          },
          "metadata": {},
          "execution_count": 24
        }
      ]
    },
    {
      "cell_type": "code",
      "source": [
        "plt.bar(p, prior, width=0.05,\n",
        "        tick_label=[0.05, 0.15, 0.25, 0.35, 0.45, 0.55, 0.65, 0.75, 0.85, 0.95],\n",
        "        label=\"Distribución inicial\")\n",
        "plt.legend();"
      ],
      "metadata": {
        "colab": {
          "base_uri": "https://localhost:8080/",
          "height": 430
        },
        "id": "DIXh5IgXo_B4",
        "outputId": "816746e4-7495-4e1a-ce4c-55bf1c488186"
      },
      "execution_count": null,
      "outputs": [
        {
          "output_type": "display_data",
          "data": {
            "text/plain": [
              "<Figure size 640x480 with 1 Axes>"
            ],
            "image/png": "[encoded data removed]"
          },
          "metadata": {}
        }
      ]
    },
    {
      "cell_type": "markdown",
      "source": [
        "En nuestro ejemplo, $s=11$ y $f=16$, por lo que la verosimilitud (distribución muestral/sampling distribution) es\n",
        "$$\n",
        "f(x_1,\\ldots,x_{27}|p) ∝ p^{11} (1-p)^{16}\n",
        "$$\n",
        "con $0<p<1$"
      ],
      "metadata": {
        "id": "oQYB56_uruKC"
      }
    },
    {
      "cell_type": "code",
      "source": [
        "def posterior_discrete(p, prior, data):\n",
        "  \"\"\" Distribución posterior para una proporción con modelos discretos.\n",
        "\n",
        "  Función original:\n",
        "  pdist de LearnBayes en R (https://rdrr.io/cran/LearnBayes/src/R/pdisc.R)\n",
        "\n",
        "  :param p: Arreglo de valores de la proporción.\n",
        "  :param prior: Arreglo con las probabilidades iniciales para las proporciones.\n",
        "  :param data: Arreglo de datos (éxitos / fracasos de los ensayos bernoulli).\n",
        "  :return: Arreglo con la distribución posterior.\n",
        "  \"\"\"\n",
        "  assert len(p) == len(prior)\n",
        "\n",
        "  like = np.power(p, data[0]) * np.power(1-p, data[1])\n",
        "  post = like * prior\n",
        "  post /= np.sum(post)\n",
        "\n",
        "  return post"
      ],
      "metadata": {
        "id": "Q9RO1HXrsnJ1"
      },
      "execution_count": null,
      "outputs": []
    },
    {
      "cell_type": "code",
      "source": [
        "data = np.array([11, 16])\n",
        "post = posterior_discrete(p, prior, data)"
      ],
      "metadata": {
        "id": "csICCmiLpNO4"
      },
      "execution_count": null,
      "outputs": []
    },
    {
      "cell_type": "code",
      "source": [
        "plt.bar(p, post, width=0.05,\n",
        "        tick_label=[0.05, 0.15, 0.25, 0.35, 0.45, 0.55, 0.65, 0.75, 0.85, 0.95],\n",
        "        label=\"Distribución final\")\n",
        "plt.legend();"
      ],
      "metadata": {
        "colab": {
          "base_uri": "https://localhost:8080/",
          "height": 435
        },
        "id": "SBu4pBZhu_Zr",
        "outputId": "9ddd5a1b-d4af-422a-b844-e7c4b5e6642b"
      },
      "execution_count": null,
      "outputs": [
        {
          "output_type": "display_data",
          "data": {
            "text/plain": [
              "<Figure size 640x480 with 1 Axes>"
            ],
            "image/png": "[encoded data removed]"
          },
          "metadata": {}
        }
      ]
    },
    {
      "cell_type": "code",
      "source": [
        "table = pd.DataFrame({\"p\": p,\n",
        "                      \"Inicial\": prior,\n",
        "                      \"Final\": post})"
      ],
      "metadata": {
        "id": "e6ZlYoeRvAs2"
      },
      "execution_count": null,
      "outputs": []
    },
    {
      "cell_type": "code",
      "source": [
        "table"
      ],
      "metadata": {
        "colab": {
          "base_uri": "https://localhost:8080/",
          "height": 363
        },
        "id": "0YPmYFaiv4LO",
        "outputId": "664b007f-6254-4af9-a892-33d69b8f07ae"
      },
      "execution_count": null,
      "outputs": [
        {
          "output_type": "execute_result",
          "data": {
            "text/plain": [
              "      p   Inicial         Final\n",
              "0  0.05  0.034602  1.451714e-08\n",
              "1  0.15  0.179931  2.256022e-03\n",
              "2  0.25  0.276817  1.291349e-01\n",
              "3  0.35  0.249135  4.767910e-01\n",
              "4  0.45  0.159170  3.338350e-01\n",
              "5  0.55  0.072664  5.587820e-02\n",
              "6  0.65  0.024221  2.098297e-03\n",
              "7  0.75  0.003460  6.642742e-06\n",
              "8  0.85  0.000000  0.000000e+00\n",
              "9  0.95  0.000000  0.000000e+00"
            ],
            "text/html": [
              "\n",
              "  <div id=\"df-b5fb85e5-d524-4854-bbe5-36e872693ba0\" class=\"colab-df-container\">\n",
              "    <div>\n",
              "<style scoped>\n",
              "    .dataframe tbody tr th:only-of-type {\n",
              "        vertical-align: middle;\n",
              "    }\n",
              "\n",
              "    .dataframe tbody tr th {\n",
              "        vertical-align: top;\n",
              "    }\n",
              "\n",
              "    .dataframe thead th {\n",
              "        text-align: right;\n",
              "    }\n",
              "</style>\n",
              "<table border=\"1\" class=\"dataframe\">\n",
              "  <thead>\n",
              "    <tr style=\"text-align: right;\">\n",
              "      <th></th>\n",
              "      <th>p</th>\n",
              "      <th>Inicial</th>\n",
              "      <th>Final</th>\n",
              "    </tr>\n",
              "  </thead>\n",
              "  <tbody>\n",
              "    <tr>\n",
              "      <th>0</th>\n",
              "      <td>0.05</td>\n",
              "      <td>0.034602</td>\n",
              "      <td>1.451714e-08</td>\n",
              "    </tr>\n",
              "    <tr>\n",
              "      <th>1</th>\n",
              "      <td>0.15</td>\n",
              "      <td>0.179931</td>\n",
              "      <td>2.256022e-03</td>\n",
              "    </tr>\n",
              "    <tr>\n",
              "      <th>2</th>\n",
              "      <td>0.25</td>\n",
              "      <td>0.276817</td>\n",
              "      <td>1.291349e-01</td>\n",
              "    </tr>\n",
              "    <tr>\n",
              "      <th>3</th>\n",
              "      <td>0.35</td>\n",
              "      <td>0.249135</td>\n",
              "      <td>4.767910e-01</td>\n",
              "    </tr>\n",
              "    <tr>\n",
              "      <th>4</th>\n",
              "      <td>0.45</td>\n",
              "      <td>0.159170</td>\n",
              "      <td>3.338350e-01</td>\n",
              "    </tr>\n",
              "    <tr>\n",
              "      <th>5</th>\n",
              "      <td>0.55</td>\n",
              "      <td>0.072664</td>\n",
              "      <td>5.587820e-02</td>\n",
              "    </tr>\n",
              "    <tr>\n",
              "      <th>6</th>\n",
              "      <td>0.65</td>\n",
              "      <td>0.024221</td>\n",
              "      <td>2.098297e-03</td>\n",
              "    </tr>\n",
              "    <tr>\n",
              "      <th>7</th>\n",
              "      <td>0.75</td>\n",
              "      <td>0.003460</td>\n",
              "      <td>6.642742e-06</td>\n",
              "    </tr>\n",
              "    <tr>\n",
              "      <th>8</th>\n",
              "      <td>0.85</td>\n",
              "      <td>0.000000</td>\n",
              "      <td>0.000000e+00</td>\n",
              "    </tr>\n",
              "    <tr>\n",
              "      <th>9</th>\n",
              "      <td>0.95</td>\n",
              "      <td>0.000000</td>\n",
              "      <td>0.000000e+00</td>\n",
              "    </tr>\n",
              "  </tbody>\n",
              "</table>\n",
              "</div>\n",
              "    <div class=\"colab-df-buttons\">\n",
              "\n",
              "  <div class=\"colab-df-container\">\n",
              "    <button class=\"colab-df-convert\" onclick=\"convertToInteractive('df-b5fb85e5-d524-4854-bbe5-36e872693ba0')\"\n",
              "            title=\"Convert this dataframe to an interactive table.\"\n",
              "            style=\"display:none;\">\n",
              "\n",
              "  <svg xmlns=\"http://www.w3.org/2000/svg\" height=\"24px\" viewBox=\"0 -960 960 960\">\n",
              "    <path d=\"M120-120v-720h720v720H120Zm60-500h600v-160H180v160Zm220 220h160v-160H400v160Zm0 220h160v-160H400v160ZM180-400h160v-160H180v160Zm440 0h160v-160H620v160ZM180-180h160v-160H180v160Zm440 0h160v-160H620v160Z\"/>\n",
              "  </svg>\n",
              "    </button>\n",
              "\n",
              "  <style>\n",
              "    .colab-df-container {\n",
              "      display:flex;\n",
              "      gap: 12px;\n",
              "    }\n",
              "\n",
              "    .colab-df-convert {\n",
              "      background-color: #E8F0FE;\n",
              "      border: none;\n",
              "      border-radius: 50%;\n",
              "      cursor: pointer;\n",
              "      display: none;\n",
              "      fill: #1967D2;\n",
              "      height: 32px;\n",
              "      padding: 0 0 0 0;\n",
              "      width: 32px;\n",
              "    }\n",
              "\n",
              "    .colab-df-convert:hover {\n",
              "      background-color: #E2EBFA;\n",
              "      box-shadow: 0px 1px 2px rgba(60, 64, 67, 0.3), 0px 1px 3px 1px rgba(60, 64, 67, 0.15);\n",
              "      fill: #174EA6;\n",
              "    }\n",
              "\n",
              "    .colab-df-buttons div {\n",
              "      margin-bottom: 4px;\n",
              "    }\n",
              "\n",
              "    [theme=dark] .colab-df-convert {\n",
              "      background-color: #3B4455;\n",
              "      fill: #D2E3FC;\n",
              "    }\n",
              "\n",
              "    [theme=dark] .colab-df-convert:hover {\n",
              "      background-color: #434B5C;\n",
              "      box-shadow: 0px 1px 3px 1px rgba(0, 0, 0, 0.15);\n",
              "      filter: drop-shadow(0px 1px 2px rgba(0, 0, 0, 0.3));\n",
              "      fill: #FFFFFF;\n",
              "    }\n",
              "  </style>\n",
              "\n",
              "    <script>\n",
              "      const buttonEl =\n",
              "        document.querySelector('#df-b5fb85e5-d524-4854-bbe5-36e872693ba0 button.colab-df-convert');\n",
              "      buttonEl.style.display =\n",
              "        google.colab.kernel.accessAllowed ? 'block' : 'none';\n",
              "\n",
              "      async function convertToInteractive(key) {\n",
              "        const element = document.querySelector('#df-b5fb85e5-d524-4854-bbe5-36e872693ba0');\n",
              "        const dataTable =\n",
              "          await google.colab.kernel.invokeFunction('convertToInteractive',\n",
              "                                                    [key], {});\n",
              "        if (!dataTable) return;\n",
              "\n",
              "        const docLinkHtml = 'Like what you see? Visit the ' +\n",
              "          '<a target=\"_blank\" href=https://colab.research.google.com/notebooks/data_table.ipynb>data table notebook</a>'\n",
              "          + ' to learn more about interactive tables.';\n",
              "        element.innerHTML = '';\n",
              "        dataTable['output_type'] = 'display_data';\n",
              "        await google.colab.output.renderOutput(dataTable, element);\n",
              "        const docLink = document.createElement('div');\n",
              "        docLink.innerHTML = docLinkHtml;\n",
              "        element.appendChild(docLink);\n",
              "      }\n",
              "    </script>\n",
              "  </div>\n",
              "\n",
              "\n",
              "<div id=\"df-c7489cae-ea30-4538-b17e-f72e4160c969\">\n",
              "  <button class=\"colab-df-quickchart\" onclick=\"quickchart('df-c7489cae-ea30-4538-b17e-f72e4160c969')\"\n",
              "            title=\"Suggest charts.\"\n",
              "            style=\"display:none;\">\n",
              "\n",
              "<svg xmlns=\"http://www.w3.org/2000/svg\" height=\"24px\"viewBox=\"0 0 24 24\"\n",
              "     width=\"24px\">\n",
              "    <g>\n",
              "        <path d=\"M19 3H5c-1.1 0-2 .9-2 2v14c0 1.1.9 2 2 2h14c1.1 0 2-.9 2-2V5c0-1.1-.9-2-2-2zM9 17H7v-7h2v7zm4 0h-2V7h2v10zm4 0h-2v-4h2v4z\"/>\n",
              "    </g>\n",
              "</svg>\n",
              "  </button>\n",
              "\n",
              "<style>\n",
              "  .colab-df-quickchart {\n",
              "    background-color: #E8F0FE;\n",
              "    border: none;\n",
              "    border-radius: 50%;\n",
              "    cursor: pointer;\n",
              "    display: none;\n",
              "    fill: #1967D2;\n",
              "    height: 32px;\n",
              "    padding: 0 0 0 0;\n",
              "    width: 32px;\n",
              "  }\n",
              "\n",
              "  .colab-df-quickchart:hover {\n",
              "    background-color: #E2EBFA;\n",
              "    box-shadow: 0px 1px 2px rgba(60, 64, 67, 0.3), 0px 1px 3px 1px rgba(60, 64, 67, 0.15);\n",
              "    fill: #174EA6;\n",
              "  }\n",
              "\n",
              "  [theme=dark] .colab-df-quickchart {\n",
              "    background-color: #3B4455;\n",
              "    fill: #D2E3FC;\n",
              "  }\n",
              "\n",
              "  [theme=dark] .colab-df-quickchart:hover {\n",
              "    background-color: #434B5C;\n",
              "    box-shadow: 0px 1px 3px 1px rgba(0, 0, 0, 0.15);\n",
              "    filter: drop-shadow(0px 1px 2px rgba(0, 0, 0, 0.3));\n",
              "    fill: #FFFFFF;\n",
              "  }\n",
              "</style>\n",
              "\n",
              "  <script>\n",
              "    async function quickchart(key) {\n",
              "      const charts = await google.colab.kernel.invokeFunction(\n",
              "          'suggestCharts', [key], {});\n",
              "    }\n",
              "    (() => {\n",
              "      let quickchartButtonEl =\n",
              "        document.querySelector('#df-c7489cae-ea30-4538-b17e-f72e4160c969 button');\n",
              "      quickchartButtonEl.style.display =\n",
              "        google.colab.kernel.accessAllowed ? 'block' : 'none';\n",
              "    })();\n",
              "  </script>\n",
              "</div>\n",
              "    </div>\n",
              "  </div>\n"
            ]
          },
          "metadata": {},
          "execution_count": 51
        }
      ]
    },
    {
      "cell_type": "code",
      "source": [
        "fig, axs = plt.subplots(2, 1, layout='constrained', figsize=(5, 5))\n",
        "_ = axs[0].bar(p, prior, width=0.05,\n",
        "               tick_label=[0.05, 0.15, 0.25, 0.35, 0.45, 0.55, 0.65, 0.75, 0.85, 0.95],\n",
        "               color=\"red\")\n",
        "_ = axs[0].set_title(\"Distribución inicial\")\n",
        "_ = axs[1].bar(p, post, width=0.05,\n",
        "               tick_label=[0.05, 0.15, 0.25, 0.35, 0.45, 0.55, 0.65, 0.75, 0.85, 0.95],\n",
        "               color=\"green\")\n",
        "_ = axs[1].set_title(\"Distribución final\")"
      ],
      "metadata": {
        "colab": {
          "base_uri": "https://localhost:8080/",
          "height": 528
        },
        "id": "g79_hcErwBhd",
        "outputId": "1f2c80c5-b480-4641-ecdc-441958f062e0"
      },
      "execution_count": null,
      "outputs": [
        {
          "output_type": "display_data",
          "data": {
            "text/plain": [
              "<Figure size 500x500 with 2 Axes>"
            ],
            "image/png": "[encoded data removed]"
          },
          "metadata": {}
        }
      ]
    },
    {
      "cell_type": "markdown",
      "source": [
        "Nótese que luego de actualizar la densidad, el conjunto de valores $\\{0.25, 0.35, 0.45\\}$ tienen una probabilidad posterior de $0.940$"
      ],
      "metadata": {
        "id": "QJ6nRWRPx3fI"
      }
    },
    {
      "cell_type": "code",
      "source": [
        "np.sum(post)"
      ],
      "metadata": {
        "colab": {
          "base_uri": "https://localhost:8080/"
        },
        "id": "-4nOs3l2wfyb",
        "outputId": "18b36b6b-19ab-4d35-d907-d51a5ecd3adb"
      },
      "execution_count": null,
      "outputs": [
        {
          "output_type": "execute_result",
          "data": {
            "text/plain": [
              "1.0000000000000002"
            ]
          },
          "metadata": {},
          "execution_count": 74
        }
      ]
    },
    {
      "cell_type": "code",
      "source": [
        "p[2:5]"
      ],
      "metadata": {
        "colab": {
          "base_uri": "https://localhost:8080/"
        },
        "id": "-9v-U8FsyWG5",
        "outputId": "325b0ea7-1b41-4f08-c0b5-583a3e6c8027"
      },
      "execution_count": null,
      "outputs": [
        {
          "output_type": "execute_result",
          "data": {
            "text/plain": [
              "array([0.25, 0.35, 0.45])"
            ]
          },
          "metadata": {},
          "execution_count": 78
        }
      ]
    },
    {
      "cell_type": "code",
      "source": [
        "np.sum(post[2:5])"
      ],
      "metadata": {
        "colab": {
          "base_uri": "https://localhost:8080/"
        },
        "id": "-fBiBZrfyMbz",
        "outputId": "7578176b-4822-450c-d6b3-ca222c1bc2bc"
      },
      "execution_count": null,
      "outputs": [
        {
          "output_type": "execute_result",
          "data": {
            "text/plain": [
              "0.9397608225148018"
            ]
          },
          "metadata": {},
          "execution_count": 75
        }
      ]
    },
    {
      "cell_type": "markdown",
      "source": [
        "*Inicial beta*"
      ],
      "metadata": {
        "id": "NTUK7nM_yjm_"
      }
    },
    {
      "cell_type": "code",
      "source": [],
      "metadata": {
        "id": "SUpiSmClyS9l"
      },
      "execution_count": null,
      "outputs": []
    }
  ]
}